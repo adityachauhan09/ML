{
 "cells": [
  {
   "cell_type": "markdown",
   "metadata": {
    "deletable": false,
    "editable": false,
    "nbgrader": {
     "cell_type": "markdown",
     "checksum": "9c1abcfda2db965cdca875116547c99c",
     "grade": false,
     "grade_id": "cell-11fe0ac8a0e8c08a",
     "locked": true,
     "schema_version": 3,
     "solution": false,
     "task": false
    }
   },
   "source": [
    "# ECMM422 - Machine Learning -\n",
    "## Course Assessment 2\n",
    "\n",
    "\n",
    "This course assessment (CA2) represents 60% of the overall module assessment.\n",
    "\n",
    "This is an individual exercise and your attention is drawn to the College and University guidelines on collaboration and plagiarism, which are available from the College website.\n",
    "\n",
    "\n",
    "**Note:**\n",
    "1. do not change the name of this notebook, i.e. the notebook file has to be named: `ca2.ipynb`, not e.g. `ca2_my_student_id.ipynb`  \n",
    "2. do not remove/delete/replace any cell\n",
    "3. do not add any cell: it is suggested that you work on a separate draft notebook and only copy the function implementations here\n",
    "4. do not add you name or student code in the notebook or in the file name\n",
    "\n",
    "**Evaluation criteria:**\n",
    "\n",
    "Each question asks for one or more functions to be implemented. \n",
    "\n",
    "Each question is awarded a number of marks. \n",
    "\n",
    "A (hidden) unit test is going to evaluate if all desired properties of the required function(s) are met. \n",
    "\n",
    "If the test passes all the associated marks are awarded, if it fails 0 marks are awarded. The large number of questions allows a fine grading. \n",
    "\n",
    "Some questions are just a check-point, i.e. it is for you to see that you are correctly implementing all functions. Since those check-points use functions that you have already implemented and that have already been marked, those questions are not going to be marked."
   ]
  },
  {
   "cell_type": "markdown",
   "metadata": {
    "deletable": false,
    "editable": false,
    "nbgrader": {
     "cell_type": "markdown",
     "checksum": "9fcf034a27811c09014742c3a234c21a",
     "grade": false,
     "grade_id": "cell-b7361becee158bc9",
     "locked": true,
     "schema_version": 3,
     "solution": false,
     "task": false
    }
   },
   "source": [
    "## Notes:\n",
    "\n",
    "In the rest of the notebook, the term `data matrix` refers to a two dimensional numpy array where instances are encoded as rows, e.g. a data matrix with 100 rows and 4 columns is to be interpreted as a collection of 100 instances each with four features.  \n",
    "\n",
    "---\n",
    "\n",
    "When a required function can be implemented directly by a library function it is intended that the candidate should write her own implementation of the function, e.g. a function to compute the accuracy, the confusion table, etc.\n",
    "\n",
    "---\n",
    "\n",
    "You are asked to solve the quadratic optimization problem using the library [cvxopt](http://cvxopt.org/).  \n",
    "\n",
    "You can install the library via:\n",
    "\n",
    "`pip install cvxopt`\n",
    "\n",
    "or\n",
    "\n",
    "`conda install -c conda-forge cvxopt`\n",
    "\n",
    "Then you should be able to import the module with:\n",
    "\n",
    "    `import cvxopt`\n",
    "    \n",
    "---\n",
    "\n",
    "Do not assume that the implementations provided in the Workshops exercises contain no mistakes. You should write and are ultimately responsible for the code that you submit in this Assessment."
   ]
  },
  {
   "cell_type": "code",
   "execution_count": 16,
   "metadata": {
    "deletable": false,
    "editable": false,
    "nbgrader": {
     "cell_type": "code",
     "checksum": "8e7d7df9b92a0237b45cb1cdf17364ba",
     "grade": false,
     "grade_id": "cell-9e614a36d5268220",
     "locked": true,
     "schema_version": 3,
     "solution": false,
     "task": false
    }
   },
   "outputs": [],
   "source": [
    "%matplotlib inline\n",
    "import matplotlib.pyplot as plt\n",
    "import numpy as np\n",
    "import scipy as sp\n",
    "import cvxopt\n",
    "\n",
    "# the following is used in unit testing, please ignore \n",
    "import sys\n",
    "sys.path.insert(0,'../../../')"
   ]
  },
  {
   "cell_type": "markdown",
   "metadata": {
    "deletable": false,
    "editable": false,
    "nbgrader": {
     "cell_type": "markdown",
     "checksum": "cd814e95c618fadebd246afff5e91420",
     "grade": false,
     "grade_id": "cell-41308c8fadb8d614",
     "locked": true,
     "schema_version": 3,
     "solution": false,
     "task": false
    }
   },
   "source": [
    "## Question 1  [marks 3]\n",
    "\n",
    "\n",
    "a) Make the following functions: \n",
    "\n",
    "- `TPR = true_positive_rate(preds, targets)` \n",
    "- `FPR = false_positive_rate(preds, targets)` \n",
    "\n",
    "to compute the sequence of true (resp. false) positive rates for all possible threshold values.\n",
    "The functions should work equally well when the input is of the type `list` or `numpy array`. \n",
    "The input `preds` contains the predictions as float numbers and the input `targets` contains the true class labels encoded as the integers `1` or `-1`. \n",
    "\n",
    "b) Make the function `compute_auc(TPR, FPR)` to compute the area under the curve of the ROC given in input the list of true poritive rates and false positive rates for all possible threshold values."
   ]
  },
  {
   "cell_type": "code",
   "execution_count": 412,
   "metadata": {
    "deletable": false,
    "nbgrader": {
     "cell_type": "code",
     "checksum": "e8ec7504b0d3e5e46838e72fe8b87d4d",
     "grade": false,
     "grade_id": "cell-a0f0f0cd335f936c",
     "locked": false,
     "schema_version": 3,
     "solution": true,
     "task": false
    }
   },
   "outputs": [],
   "source": [
    "def preprocess(preds,targets):   \n",
    "    preds = np.array(preds)\n",
    "    targets = np.array(targets)\n",
    "    ids = np.argsort(-preds)\n",
    "    sorted_targets = targets[ids]\n",
    "    POS_COUNT = np.sum(targets == 1)\n",
    "    POS_SUM = np.cumsum((sorted_targets==1))\n",
    "    NEG_COUNT = np.sum(targets != 1)\n",
    "    NEG_SUM = np.cumsum((sorted_targets !=1))\n",
    "    return  POS_COUNT,POS_SUM,NEG_COUNT,NEG_SUM\n",
    "    \n",
    "\n",
    "def true_positive_rate(preds, targets):\n",
    "    POS_COUNT,POS_SUM,NEG_COUNT,NEG_SUM = preprocess(preds, targets)\n",
    "    return POS_SUM/POS_COUNT"
   ]
  },
  {
   "cell_type": "code",
   "execution_count": 413,
   "metadata": {
    "deletable": false,
    "editable": false,
    "nbgrader": {
     "cell_type": "code",
     "checksum": "ef9a970caf87cd4ba7f3af5c85b3e25b",
     "grade": true,
     "grade_id": "cell-0303e08f10311887",
     "locked": true,
     "points": 1,
     "schema_version": 3,
     "solution": false,
     "task": false
    }
   },
   "outputs": [],
   "source": [
    "# This cell is reserved for the unit tests. Do not consider this cell. "
   ]
  },
  {
   "cell_type": "code",
   "execution_count": 414,
   "metadata": {
    "deletable": false,
    "nbgrader": {
     "cell_type": "code",
     "checksum": "abbc32f3a4672d03eb55891631ff8044",
     "grade": false,
     "grade_id": "cell-24cc1a4e8839d015",
     "locked": false,
     "schema_version": 3,
     "solution": true,
     "task": false
    }
   },
   "outputs": [],
   "source": [
    "def false_positive_rate(preds, targets):\n",
    "    POS_COUNT,POS_SUM,NEG_COUNT,NEG_SUM = preprocess(preds, targets)\n",
    "    return NEG_SUM/NEG_COUNT"
   ]
  },
  {
   "cell_type": "code",
   "execution_count": 415,
   "metadata": {
    "deletable": false,
    "editable": false,
    "nbgrader": {
     "cell_type": "code",
     "checksum": "5a2a37fe29a5b7d246615d69dd246409",
     "grade": true,
     "grade_id": "cell-b0e8cdb3b2e9278d",
     "locked": true,
     "points": 1,
     "schema_version": 3,
     "solution": false,
     "task": false
    }
   },
   "outputs": [],
   "source": [
    "# This cell is reserved for the unit tests. Do not consider this cell. "
   ]
  },
  {
   "cell_type": "code",
   "execution_count": 416,
   "metadata": {
    "deletable": false,
    "nbgrader": {
     "cell_type": "code",
     "checksum": "f4dd2794877db77c9d0d7219a00d1b93",
     "grade": false,
     "grade_id": "cell-d42bf2881a8eee9a",
     "locked": false,
     "schema_version": 3,
     "solution": true,
     "task": false
    }
   },
   "outputs": [],
   "source": [
    "def compute_auc(TPR, FPR):\n",
    "    auc = [(FPR[x+1]- FPR[x])*TPR[x] for x in range(len(TPR)-1)]\n",
    "    result = np.sum(auc)\n",
    "    return result"
   ]
  },
  {
   "cell_type": "code",
   "execution_count": 417,
   "metadata": {
    "deletable": false,
    "editable": false,
    "nbgrader": {
     "cell_type": "code",
     "checksum": "57216768ef911f80ed9f26e8af586247",
     "grade": true,
     "grade_id": "cell-32df9f5400de93c9",
     "locked": true,
     "points": 1,
     "schema_version": 3,
     "solution": false,
     "task": false
    }
   },
   "outputs": [],
   "source": [
    "# This cell is reserved for the unit tests. Do not consider this cell. "
   ]
  },
  {
   "cell_type": "markdown",
   "metadata": {
    "deletable": false,
    "editable": false,
    "nbgrader": {
     "cell_type": "markdown",
     "checksum": "cd9166e210e4963548d727b7c05b5c07",
     "grade": false,
     "grade_id": "cell-9999880f2e15ef82",
     "locked": true,
     "schema_version": 3,
     "solution": false,
     "task": false
    }
   },
   "source": [
    "## Question 2  [marks 3]\n",
    "\n",
    "\n",
    "a) Make a function `classifier = train_rf(X_train, y_train, param)` that takes in input a data matrix `X_train`, an associated target array `y_train`, and a single scalar parameter `param` which corresponds to the maximum depth of the decision trees used in the forest, and returns a fit classifier object of type `sklearn.ensemble.RandomForestClassifier`. In this implementation you must fix the number of decision trees used in the forest to the value 10.\n",
    "\n",
    "b) Make a function `preds = test_rf(X_test, classifier)` that takes in input a data matrix `X_test`, a classifier object `classifier` and returns the prediction array `preds`.\n",
    "\n",
    "c) Make a function `scores = score_rf(X_test, classifier)` that takes in input a data matrix `X_test`, a classifier object `classifier` and returns the array `scores` containing the probability for each instance to belong to the positive class (which is assumed to be encoded with the integer `1`)."
   ]
  },
  {
   "cell_type": "code",
   "execution_count": 418,
   "metadata": {
    "deletable": false,
    "nbgrader": {
     "cell_type": "code",
     "checksum": "e43ffde4ea0fa183bbff99a673be39f8",
     "grade": false,
     "grade_id": "cell-4d62ca89a3562c93",
     "locked": false,
     "schema_version": 3,
     "solution": true,
     "task": false
    }
   },
   "outputs": [],
   "source": [
    "from sklearn.ensemble import RandomForestClassifier\n",
    "\n",
    "def train_rf(X_train, y_train, param):\n",
    "    clf = RandomForestClassifier(n_estimators=10, max_depth=param)\n",
    "    clf = clf.fit(X_train, y_train)\n",
    "    return clf"
   ]
  },
  {
   "cell_type": "code",
   "execution_count": 419,
   "metadata": {
    "deletable": false,
    "editable": false,
    "nbgrader": {
     "cell_type": "code",
     "checksum": "2aa014934aac4df384337c2e964e7a83",
     "grade": true,
     "grade_id": "cell-882d1b3bf954598b",
     "locked": true,
     "points": 0,
     "schema_version": 3,
     "solution": false,
     "task": false
    }
   },
   "outputs": [],
   "source": [
    "# This cell is reserved for the unit tests. Do not consider this cell. "
   ]
  },
  {
   "cell_type": "code",
   "execution_count": 420,
   "metadata": {
    "deletable": false,
    "nbgrader": {
     "cell_type": "code",
     "checksum": "88e2087c0465c60e3f7b4c53b1718265",
     "grade": false,
     "grade_id": "cell-32185afb866e1d1f",
     "locked": false,
     "schema_version": 3,
     "solution": true,
     "task": false
    }
   },
   "outputs": [],
   "source": [
    "def test_rf(X_test, estimator):\n",
    "    result = estimator.predict(X_test)\n",
    "    return result"
   ]
  },
  {
   "cell_type": "code",
   "execution_count": 421,
   "metadata": {
    "deletable": false,
    "editable": false,
    "nbgrader": {
     "cell_type": "code",
     "checksum": "fced9ac996ed759b01607c004b705fec",
     "grade": true,
     "grade_id": "cell-8630ee2f6a39d33b",
     "locked": true,
     "points": 0,
     "schema_version": 3,
     "solution": false,
     "task": false
    }
   },
   "outputs": [],
   "source": [
    "# This cell is reserved for the unit tests. Do not consider this cell. "
   ]
  },
  {
   "cell_type": "code",
   "execution_count": 422,
   "metadata": {
    "deletable": false,
    "nbgrader": {
     "cell_type": "code",
     "checksum": "210d07cdce92a341e85030c36bcb9563",
     "grade": false,
     "grade_id": "cell-768794cce387d3e7",
     "locked": false,
     "schema_version": 3,
     "solution": true,
     "task": false
    }
   },
   "outputs": [],
   "source": [
    "def score_rf(X_test, estimator):\n",
    "    est = estimator.predict_proba(X_test)[:,1]\n",
    "    return est"
   ]
  },
  {
   "cell_type": "code",
   "execution_count": 423,
   "metadata": {
    "deletable": false,
    "editable": false,
    "nbgrader": {
     "cell_type": "code",
     "checksum": "eef89b15d4122258bcbe5e8cc303dabd",
     "grade": true,
     "grade_id": "cell-74ddc3791bce94ab",
     "locked": true,
     "points": 3,
     "schema_version": 3,
     "solution": false,
     "task": false
    }
   },
   "outputs": [],
   "source": [
    "# This cell is reserved for the unit tests. Do not consider this cell. "
   ]
  },
  {
   "cell_type": "markdown",
   "metadata": {
    "deletable": false,
    "editable": false,
    "nbgrader": {
     "cell_type": "markdown",
     "checksum": "f654f3fe2321e966504fc4616ad668ed",
     "grade": false,
     "grade_id": "cell-7abc63660b23c24e",
     "locked": true,
     "schema_version": 3,
     "solution": false,
     "task": false
    }
   },
   "source": [
    "## Question 3  [marks 2]\n",
    "\n",
    "Make a function `scores_list = compute_scores(train_func, score_func, param, X_train, y_train, X_test, num)` that trains a classifier on `X_train, y_train` and tests it on `X_test` a number of times equal to `num`. The function outputs a list of score arrays of size `num`, and each score array contains the predicted probability for each instance in `X_test` to belong to the positive class (which is assumed to be encoded with the integer `1`). Note that by using a randomized classifier (like the random forest) you will get different output score arrays each time. "
   ]
  },
  {
   "cell_type": "code",
   "execution_count": 424,
   "metadata": {
    "deletable": false,
    "nbgrader": {
     "cell_type": "code",
     "checksum": "fa347c9cc762e6fb2dadf4fe3a91c3ec",
     "grade": false,
     "grade_id": "cell-31dda09babfda730",
     "locked": false,
     "schema_version": 3,
     "solution": true,
     "task": false
    }
   },
   "outputs": [],
   "source": [
    "def compute_scores(train_func, score_func, param, X_train, y_train, X_test, num):\n",
    "    result = []\n",
    "    for j in range(num):\n",
    "        est = train_func(X_train,y_train,param)\n",
    "        result.append(score_func(X_test,est))\n",
    "    return result"
   ]
  },
  {
   "cell_type": "code",
   "execution_count": 425,
   "metadata": {
    "deletable": false,
    "editable": false,
    "nbgrader": {
     "cell_type": "code",
     "checksum": "2f53c8f524a546af7df0dfcf14cb86cc",
     "grade": true,
     "grade_id": "cell-c5a9e6b2e4a79326",
     "locked": true,
     "points": 2,
     "schema_version": 3,
     "solution": false,
     "task": false
    }
   },
   "outputs": [],
   "source": [
    "# This cell is reserved for the unit tests. Do not consider this cell. "
   ]
  },
  {
   "cell_type": "markdown",
   "metadata": {
    "deletable": false,
    "editable": false,
    "nbgrader": {
     "cell_type": "markdown",
     "checksum": "4d47d783af092d9684c6f5c66ca22d4c",
     "grade": false,
     "grade_id": "cell-c60bba12d8f215e8",
     "locked": true,
     "schema_version": 3,
     "solution": false,
     "task": false
    }
   },
   "source": [
    "## Question 4  [marks 7]\n",
    "\n",
    "Make a function `tpr_low, tpr_high, tpr_mid, fpr = compute_tpr_fpr_range(scores_list, y_test, false_positive_rate_func, true_positive_rate_func, low_quantile, high_quantile)`. The function takes in input a list of predicted scores, the true classes, a function to compute the false positive rate and one to compute the true positive rate and two threshold values: low_quantile and high_quantile. The function will output 4 lists (or arrays): \n",
    "\n",
    "- tpr_low: the true positive rate corresponding to the `low_quantile` true positive rate \n",
    "- tpr_high: the true positive rate corresponding to the `high_quantile` true positive rate\n",
    "- tpr_mid: the true positive rate corresponding to the median true positive rate\n",
    "- fpr: the false positive rate\n",
    "\n",
    "Note: instead of a single pair `(true positive rate,false positive rate)` the `scores_list` allows you to have mutiple true positive rate values for the same false positive rate value, i.e. a distribution of true positive rate values; the function `compute_tpr_fpr_range` must output the values corresponding to the quantiles of such distributions (e.g. the true positive rate corresponding to the 95 percentile of the true positive rate distribution) for each corresponding false positive rate value (see the figure the Checkpoint cell below).\n"
   ]
  },
  {
   "cell_type": "code",
   "execution_count": 426,
   "metadata": {},
   "outputs": [],
   "source": [
    "from collections import Counter\n",
    "def compute_tpr_fpr_range(scores_list, y_test, false_positive_rate_func, true_positive_rate_func, low_quantile, high_quantile):\n",
    "    true_positive,false_positive = [],[]\n",
    "    for x in range(len(scores_list)):\n",
    "        true_positive.append(true_positive_rate_func(scores_list[x],y_test))\n",
    "        false_positive.append(false_positive_rate_func(scores_list[x],y_test))\n",
    "    \n",
    "    true_positive = np.array(true_positive).flatten()\n",
    "    false_positive = np.array(false_positive).flatten()\n",
    "    index = np.argsort(false_positive)\n",
    "    true_positive = true_positive[index]\n",
    "    false_positive = false_positive[index]\n",
    "    fpr_counts = dict(sorted(Counter(false_positive).items(), key=lambda obj: obj[0]))\n",
    "    f,t,t_low,t_high = [],[],[],[]\n",
    "    p=0\n",
    "    for key,count in fpr_counts.items():\n",
    "        tprs_data = true_positive[p:p+fpr_counts[key]]\n",
    "        p = p + fpr_counts[key]\n",
    "        f.append(key)\n",
    "        t.append(np.median(tprs_data))\n",
    "        t_high.append(np.quantile(tprs_data,q=high_quantile,interpolation='higher'))\n",
    "        t_low.append(np.quantile(tprs_data,q=low_quantile,interpolation='lower'))\n",
    "    return t_low,t_high,t,f"
   ]
  },
  {
   "cell_type": "code",
   "execution_count": null,
   "metadata": {
    "deletable": false,
    "nbgrader": {
     "cell_type": "code",
     "checksum": "d9425d17de4bc7c100eac1ff088d9262",
     "grade": false,
     "grade_id": "cell-a21caa734e30aa13",
     "locked": false,
     "schema_version": 3,
     "solution": true,
     "task": false
    }
   },
   "outputs": [],
   "source": []
  },
  {
   "cell_type": "code",
   "execution_count": 427,
   "metadata": {
    "deletable": false,
    "editable": false,
    "nbgrader": {
     "cell_type": "code",
     "checksum": "6ebfdf1a6e899a9742fda291d28382d7",
     "grade": true,
     "grade_id": "cell-b405cb8c7ad37191",
     "locked": true,
     "points": 3,
     "schema_version": 3,
     "solution": false,
     "task": false
    }
   },
   "outputs": [],
   "source": [
    "# This cell is reserved for the unit tests. Do not consider this cell. "
   ]
  },
  {
   "cell_type": "code",
   "execution_count": 428,
   "metadata": {
    "deletable": false,
    "editable": false,
    "nbgrader": {
     "cell_type": "code",
     "checksum": "8348ddfcf21cd906f2375477b402430e",
     "grade": true,
     "grade_id": "cell-a1bcf4018e2eab3b",
     "locked": true,
     "points": 4,
     "schema_version": 3,
     "solution": false,
     "task": false
    }
   },
   "outputs": [],
   "source": [
    "# This cell is reserved for the unit tests. Do not consider this cell. "
   ]
  },
  {
   "cell_type": "markdown",
   "metadata": {
    "deletable": false,
    "editable": false,
    "nbgrader": {
     "cell_type": "markdown",
     "checksum": "d6b6305a82aa4bd17cf4b7e0bd1d458d",
     "grade": false,
     "grade_id": "cell-c3660594aeb7164c",
     "locked": true,
     "schema_version": 3,
     "solution": false,
     "task": false
    }
   },
   "source": [
    "## Question 5  [marks 3]\n",
    "\n",
    "Make a function `plot_roc(tpr_low, tpr_high, tpr_mid, fpr, compute_auc_func)` that takes in input the true positive rate corresponding to the `low_quantile` true positive rate, the true positive rate corresponding to the `high_quantile` true positive rate, the true positive rate corresponding to the median true positive rate, the false positive rate and a function to compute the ROC AUC and produces a plot like:\n",
    "\n",
    "<img src='plot1.png' width=300>"
   ]
  },
  {
   "cell_type": "code",
   "execution_count": 429,
   "metadata": {
    "deletable": false,
    "nbgrader": {
     "cell_type": "code",
     "checksum": "f9c00c9b3e3405dce0597523fa7ebe7b",
     "grade": false,
     "grade_id": "cell-86b625ab0c6181c7",
     "locked": false,
     "schema_version": 3,
     "solution": true,
     "task": false
    }
   },
   "outputs": [],
   "source": [
    "def plot_roc(tpr_low, tpr_high, tpr_mid, fpr, compute_auc_func):\n",
    "    plt.figure(figsize=(6,6))\n",
    "    plt.fill_between(fpr,tpr_low,tpr_high,color='gray',alpha=0.4)\n",
    "    plt.plot(fpr,tpr_mid,c='black')\n",
    "    plt.scatter(fpr,tpr_mid,c='black')\n",
    "    plt.plot([0,1],[0,1],'--', c='gray', alpha=.4)\n",
    "    plt.grid()\n",
    "    plt.title('AUC ROC:%.2f'%compute_auc_func(tpr_mid, fpr))\n",
    "    plt.show()"
   ]
  },
  {
   "cell_type": "code",
   "execution_count": 430,
   "metadata": {
    "deletable": false,
    "editable": false,
    "nbgrader": {
     "cell_type": "code",
     "checksum": "ded41b96f1239b52b377632aa4316713",
     "grade": true,
     "grade_id": "cell-331f811c6e21acc6",
     "locked": true,
     "points": 3,
     "schema_version": 3,
     "solution": false,
     "task": false
    }
   },
   "outputs": [],
   "source": [
    "# This cell is reserved for the unit tests. Do not consider this cell. "
   ]
  },
  {
   "cell_type": "markdown",
   "metadata": {
    "deletable": false,
    "editable": false,
    "nbgrader": {
     "cell_type": "markdown",
     "checksum": "5e0f37d0a7e137c2cf5b21a273bf2dcb",
     "grade": false,
     "grade_id": "cell-b7fe39969958eb43",
     "locked": true,
     "schema_version": 3,
     "solution": false,
     "task": false
    }
   },
   "source": [
    "## Checkpoint\n",
    "\n",
    "This is just a check-point, i.e. it is for you to see that you are correctly implementing all functions. \n",
    "\n",
    "Execute the following code (just execute the next cell):\n",
    "```python\n",
    "from sklearn.datasets import make_classification\n",
    "X,y = make_classification(n_samples=500, n_features=20, n_informative=2, n_redundant=2, n_repeated=0, n_classes=2, n_clusters_per_class=2, weights=None, flip_y=0.1, class_sep=1.0, random_state=2)\n",
    "\n",
    "from sklearn.model_selection import train_test_split\n",
    "X_train, X_test, y_train, y_test = train_test_split(X,y, test_size=50, random_state=2)\n",
    "\n",
    "scores_list = compute_scores(train_rf, score_rf, 5, X_train, y_train, X_test, num=100)\n",
    "tpr_low, tpr_high, tpr_mid, fpr = compute_tpr_fpr_range(scores_list, y_test, false_positive_rate, true_positive_rate, low_quantile=0.05, high_quantile=0.95)\n",
    "plot_roc(tpr_low, tpr_high, tpr_mid, fpr, compute_auc)\n",
    "```\n",
    "\n",
    "You should obtain something like:\n",
    "\n",
    "<img src='plot1.png' width=300>"
   ]
  },
  {
   "cell_type": "code",
   "execution_count": 431,
   "metadata": {
    "deletable": false,
    "editable": false,
    "nbgrader": {
     "cell_type": "code",
     "checksum": "3013cc201bb8ad7b9ce08dfc6680d771",
     "grade": false,
     "grade_id": "cell-c435a96998cca747",
     "locked": true,
     "schema_version": 3,
     "solution": false,
     "task": false
    }
   },
   "outputs": [
    {
     "data": {
      "image/png": "[encoded data removed]",
      "text/plain": [
       "<Figure size 432x432 with 1 Axes>"
      ]
     },
     "metadata": {
      "needs_background": "light"
     },
     "output_type": "display_data"
    }
   ],
   "source": [
    "# Just run the following code, do not modify it\n",
    "\n",
    "from sklearn.datasets import make_classification\n",
    "X,y = make_classification(n_samples=500, n_features=20, n_informative=2, n_redundant=2, n_repeated=0, n_classes=2, n_clusters_per_class=2, weights=None, flip_y=0.1, class_sep=1.0, random_state=2)\n",
    "\n",
    "from sklearn.model_selection import train_test_split\n",
    "X_train, X_test, y_train, y_test = train_test_split(X,y, test_size=50, random_state=2)\n",
    "\n",
    "scores_list = compute_scores(train_rf, score_rf, 5, X_train, y_train, X_test, num=100)\n",
    "tpr_low, tpr_high, tpr_mid, fpr = compute_tpr_fpr_range(scores_list, y_test, false_positive_rate, true_positive_rate, low_quantile=0.05, high_quantile=0.95)\n",
    "plot_roc(tpr_low, tpr_high, tpr_mid, fpr, compute_auc)"
   ]
  },
  {
   "cell_type": "markdown",
   "metadata": {
    "deletable": false,
    "editable": false,
    "nbgrader": {
     "cell_type": "markdown",
     "checksum": "9be4a25b98534f782bdfc1b9a5b60acc",
     "grade": false,
     "grade_id": "cell-8c6d3bbf0c4023e0",
     "locked": true,
     "schema_version": 3,
     "solution": false,
     "task": false
    }
   },
   "source": [
    "## Question 6  [marks 6]\n",
    "\n",
    "Solve a constrained quadratic program (QP) with `cvxopt`. \n",
    "\n",
    "The standard form for a QP in `cvxopt` notation is:\n",
    "\n",
    "\\begin{align*}\n",
    "        \\min_{x}  \\tfrac{1}{2} x^T P x &+ q^T x \\\\\n",
    "        \\text{such that   }\\quad  Gx &\\preceq h\\\\\n",
    "        Ax & = b\n",
    "\\end{align*}\n",
    "where $Gx \\preceq h$ means that the inequality is taken element-wise for each row of $Gx$ and $h$.\n",
    "\n",
    "In `cvxopt` the QP is defined by the parameters $P, q, G, h, A$ and $b$.  The matrix $P$ and the vector $q$ must be specified, but the others are optional.   Note that all optimisations must be manipulated to be of this form.\n",
    "\n",
    "Consider this problem:\n",
    "\n",
    "\\begin{align*}\n",
    "        \\min_{x}  \\tfrac{1}{8} x^2 - \\frac{1}{10} y ^ 2+ & \\frac{1}{4} x + y\\\\\n",
    "        \\text{such that   }\\quad y - x & \\le 0\\\\\n",
    "        x + 3y & \\ge 15\\\\\n",
    "        3x + 5y & \\ge 40\\\\\n",
    "        \\frac{1}{2} x + 4y & \\le 50\n",
    "\\end{align*}\n",
    "\n",
    "Consider a grid covering the range $[0, 15] \\times [-2, 15]$ (i.e. $x \\in [0, 15]$ and $y \\in [-2, 15]$).\n",
    "\n",
    "Make a function `P,q,G,h = make_matrices()` that returns the corresponding matrices of type `cvxopt.matrix` for this specific problem."
   ]
  },
  {
   "cell_type": "code",
   "execution_count": 432,
   "metadata": {
    "deletable": false,
    "nbgrader": {
     "cell_type": "code",
     "checksum": "a4de9cff9aa06e00dcdfba7b0b3d9e18",
     "grade": false,
     "grade_id": "cell-ae6a77592d08e19a",
     "locked": false,
     "schema_version": 3,
     "solution": true,
     "task": false
    }
   },
   "outputs": [],
   "source": [
    "from cvxopt import matrix\n",
    "\n",
    "def make_matrices():\n",
    "    P = cvxopt.matrix(np.array([[1/8,0],[0,-1/10]]),tc='d')\n",
    "    q = cvxopt.matrix(np.array([1/4,1]).reshape(-1,1),tc='d')\n",
    "    G = cvxopt.matrix(np.array([[-1,1],[-1,-3],[-3,-5],[1,8]]),tc='d')\n",
    "    h = cvxopt.matrix(np.array([0,-15,-40,100]).reshape(-1,1),tc='d')\n",
    "    return P,q,G,h"
   ]
  },
  {
   "cell_type": "code",
   "execution_count": 433,
   "metadata": {
    "deletable": false,
    "editable": false,
    "nbgrader": {
     "cell_type": "code",
     "checksum": "99d2a7643d141278a94079b34420bf64",
     "grade": true,
     "grade_id": "cell-61b5affed39789b1",
     "locked": true,
     "points": 6,
     "schema_version": 3,
     "solution": false,
     "task": false
    }
   },
   "outputs": [],
   "source": [
    "# This cell is reserved for the unit tests. Do not consider this cell. "
   ]
  },
  {
   "cell_type": "markdown",
   "metadata": {
    "deletable": false,
    "editable": false,
    "nbgrader": {
     "cell_type": "markdown",
     "checksum": "f9eadeff07e3a11f1643aaf2d75ffa0b",
     "grade": false,
     "grade_id": "cell-4bb6295212d15c00",
     "locked": true,
     "schema_version": 3,
     "solution": false,
     "task": false
    }
   },
   "source": [
    "## Question 7  [marks 4]\n",
    "\n",
    "Make a function `sol, obj = compute_solution_and_objective(P,q,G,h)` that takes in input the corresponding matrices of type `cvxopt.matrix` and returns `sol` containing the vector (as a numpy array) that minimizes the constrained QP problem and a scalar `obj` that contains the value of the objective function evaluated at the solution (i.e. the minimum of the objective function)."
   ]
  },
  {
   "cell_type": "code",
   "execution_count": 434,
   "metadata": {
    "deletable": false,
    "nbgrader": {
     "cell_type": "code",
     "checksum": "b56068bbceb0085bb11d5a0de0961ea2",
     "grade": false,
     "grade_id": "cell-d476e9800c470942",
     "locked": false,
     "schema_version": 3,
     "solution": true,
     "task": false
    }
   },
   "outputs": [],
   "source": [
    "from cvxopt import solvers\n",
    "\n",
    "def compute_solution_and_objective(P,q,G,h):\n",
    "    solution = solvers.qp(P,q,G,h)\n",
    "    return solution['x'],solution['primal objective']"
   ]
  },
  {
   "cell_type": "code",
   "execution_count": 435,
   "metadata": {
    "deletable": false,
    "editable": false,
    "nbgrader": {
     "cell_type": "code",
     "checksum": "9f0dc37b164884ed8a3582a6a57b73b0",
     "grade": true,
     "grade_id": "cell-d3705bfe6b548c79",
     "locked": true,
     "points": 4,
     "schema_version": 3,
     "solution": false,
     "task": false
    }
   },
   "outputs": [],
   "source": [
    "# This cell is reserved for the unit tests. Do not consider this cell. "
   ]
  },
  {
   "cell_type": "markdown",
   "metadata": {
    "deletable": false,
    "editable": false,
    "nbgrader": {
     "cell_type": "markdown",
     "checksum": "b33ed8e6d51990ef0e00136e1b9ce9c4",
     "grade": false,
     "grade_id": "cell-38e2dce179158c72",
     "locked": true,
     "schema_version": 3,
     "solution": false,
     "task": false
    }
   },
   "source": [
    "## Question 8  [marks 6]\n",
    "\n",
    "Make a function `plot_solution(sol)` that takes in input the solution array `sol` to the previous QP problem and displays:\n",
    "\n",
    "- the feasibility region by representing the constraints \n",
    "- the objective function via colored contour lines and an associated color scale \n",
    "- the solution as a red dot\n",
    "\n",
    "The result (applied to a different QP problem) should resemble in style the following plot:\n",
    "\n",
    "<img src='plot2b.png' width=300>"
   ]
  },
  {
   "cell_type": "code",
   "execution_count": 436,
   "metadata": {
    "deletable": false,
    "nbgrader": {
     "cell_type": "code",
     "checksum": "54bc6a8b546d765b09d3270ee6feec63",
     "grade": false,
     "grade_id": "cell-342a84b76462a66c",
     "locked": false,
     "schema_version": 3,
     "solution": true,
     "task": false
    }
   },
   "outputs": [],
   "source": [
    "def function(x,y):\n",
    "    return x*x/8 - y*y/10 + x/4 + y\n",
    "\n",
    "def plot_solution(sol):    \n",
    "    x = np.linspace(0, 15, 50)\n",
    "    y = np.linspace(-2, 15, 50)\n",
    "    X, Y = np.meshgrid(x, y)\n",
    "    make_matrix = function(X, Y)\n",
    "    plt.figure(figsize=(10,10))\n",
    "    plt.xlabel(r'$x$')\n",
    "    plt.ylabel(r'$y$')\n",
    "    plt.title(r'$f0(x, y)$')\n",
    "    plt.axhline(0.0)\n",
    "    plt.axvline(0.0)\n",
    "    plt.contour(X, Y, make_matrix, 50)\n",
    "    plt.plot(x,x,'b')\n",
    "    plt.plot(x, (15 - x) / 3, 'r')\n",
    "    plt.plot(x, (40 - 3*x)/5 , 'g')\n",
    "    plt.plot(x,(50 -(x/2))/4,'b')\n",
    "    plt.scatter(sol[0],sol[1],s=300,c='r')\n",
    "    plt.colorbar()\n",
    "    plt.axis('scaled')"
   ]
  },
  {
   "cell_type": "code",
   "execution_count": 437,
   "metadata": {
    "deletable": false,
    "editable": false,
    "nbgrader": {
     "cell_type": "code",
     "checksum": "86b8767c71942e06c16b1aefec30e065",
     "grade": true,
     "grade_id": "cell-607ed3475558e8f3",
     "locked": true,
     "points": 6,
     "schema_version": 3,
     "solution": false,
     "task": false
    }
   },
   "outputs": [],
   "source": [
    "# This cell is reserved for the unit tests. Do not consider this cell. "
   ]
  },
  {
   "cell_type": "markdown",
   "metadata": {
    "deletable": false,
    "editable": false,
    "nbgrader": {
     "cell_type": "markdown",
     "checksum": "cbef043ed4524eaf91fd0e35d74ffe8d",
     "grade": false,
     "grade_id": "cell-b1d0ee353ac61752",
     "locked": true,
     "schema_version": 3,
     "solution": false,
     "task": false
    }
   },
   "source": [
    "## Checkpoint\n",
    "\n",
    "This is just a check-point, i.e. it is for you to see that you are correctly implementing all functions.\n",
    "\n",
    "Execute the following code (just execute the next cell):\n",
    "```python\n",
    "P,q,G,h = make_matrices()\n",
    "sol, obj = compute_solution_and_objective(P,q,G,h)\n",
    "plot_solution(sol)\n",
    "print(sol, obj)\n",
    "```\n",
    "\n",
    "If you had to solve the following **different** problem:\n",
    "\\begin{align*}\n",
    "        \\min_{x}  \\tfrac{1}{2} x^2 + & 3x + 4y\\\\\n",
    "        \\text{such that   }\\quad x, y & \\ge 0\\\\\n",
    "        x + 3y & \\ge 15\\\\\n",
    "        2x + 5y & \\le 100\\\\\n",
    "        3x + 4y & \\le 80\n",
    "\\end{align*}\n",
    "in the domain $[-5, 20] \\times [-5, 20]$, then you would obtain a picture like this:\n",
    "\n",
    "<img src='plot2.png' width=300>\n",
    "\n",
    "Note however that **your problem is different** and you will obtain a different figure and a different solution."
   ]
  },
  {
   "cell_type": "code",
   "execution_count": 438,
   "metadata": {
    "deletable": false,
    "editable": false,
    "nbgrader": {
     "cell_type": "code",
     "checksum": "f215c56c81adeafdf26cf07185e52a6c",
     "grade": false,
     "grade_id": "cell-22111929289dfcec",
     "locked": true,
     "schema_version": 3,
     "solution": false,
     "task": false
    }
   },
   "outputs": [
    {
     "name": "stdout",
     "output_type": "stream",
     "text": [
      "[ 5.00e+00]\n",
      "[ 5.00e+00]\n",
      " 6.562500000006214\n"
     ]
    },
    {
     "data": {
      "image/png": "[encoded data removed]",
      "text/plain": [
       "<Figure size 720x720 with 2 Axes>"
      ]
     },
     "metadata": {
      "needs_background": "light"
     },
     "output_type": "display_data"
    }
   ],
   "source": [
    "# Just run the following code, do not modify it\n",
    "\n",
    "P,q,G,h = make_matrices()\n",
    "sol, obj = compute_solution_and_objective(P,q,G,h)\n",
    "plot_solution(sol)\n",
    "print(sol, obj)"
   ]
  },
  {
   "cell_type": "markdown",
   "metadata": {
    "deletable": false,
    "editable": false,
    "nbgrader": {
     "cell_type": "markdown",
     "checksum": "933052d75dddb48342b8db6df58fd6f1",
     "grade": false,
     "grade_id": "cell-33e52a2f533fb62e",
     "locked": true,
     "schema_version": 3,
     "solution": false,
     "task": false
    }
   },
   "source": [
    "## Kernelized Large Margin Classifiers\n",
    "\n",
    "In this exercise you are asked to develop the code to solve the optimization problem that defines a kernelized Large Margin Classifier with soft margins. \n",
    "\n",
    "### Linear case\n",
    "\n",
    "We need to match the solver's API which, according to the documentation is of the form:\n",
    "\n",
    "\\begin{aligned}\n",
    "    & \\min \\frac{1}{2} x^TPx + q^Tx\n",
    "    \\\\\n",
    "     s.t. \\ & \\ Gx \\leq h \n",
    "    \\\\\n",
    "    & \\ Ax = b\n",
    "\\end{aligned}\n",
    "\n",
    "Recall that the dual problem is expressed as:\n",
    "\n",
    "\\begin{aligned}\n",
    "\\max_{\\alpha} \\sum_i^m \\alpha_i - \\frac{1}{2} \\sum_{i,j}^m y^{(i)}y^{(j)} \\alpha_i \\alpha_j <x^{(i)}, x^{(j)}>\n",
    "\\end{aligned}\n",
    "\n",
    "Let $\\mathbf{H}$ be a matrix such that $H_{i,j} = y^{(i)}y^{(j)} <x^{(i)} x^{(j)}>$, then the optimization becomes:\n",
    "\n",
    "\\begin{aligned}\n",
    "    & \\max_{\\alpha} \\sum_i^m \\alpha_i  - \\frac{1}{2}  \\alpha^T \\mathbf{H}  \\alpha\n",
    "    \\\\\n",
    "     s.t. & \\ \\alpha_i \\geq 0 \n",
    "    \\\\\n",
    "    &  \\ \\sum_i^m \\alpha_i y^{(i)} = 0  \n",
    "\\end{aligned}\n",
    "\n",
    "We convert the sums into vector form and multiply both the objective and the constraint by −1 which turns this into a minimization problem and reverses the inequality\n",
    "\n",
    "\\begin{aligned}\n",
    "    & \\min_{\\alpha}  \\frac{1}{2}  \\alpha^T \\mathbf{H}  \\alpha - 1^T \\alpha\n",
    "    \\\\\n",
    "    & s.t. \\ - \\alpha_i \\leq 0 \n",
    "    \\\\\n",
    "    & s.t. \\ y^T \\alpha = 0 \n",
    "\\end{aligned}\n",
    "\n",
    "We are now ready to convert our numpy arrays into the cvxopt format, using the same notation as in the documentation this gives\n",
    "\n",
    "* $P:=H$ a matrix of size $m×m$\n",
    "* $q:=−\\vec{1}$  a vector of size $m×1$\n",
    "* $G:=−diag[1]$ a diagonal matrix of -1s of size $m×m$\n",
    "* $h:=\\vec{0}$ a vector of zeros of size $m×1$\n",
    "* $A:=y^T$ the label vector of size $1×m$\n",
    "* $b:=0$ a scalar\n",
    "\n",
    "Note that in the simple example of $m=2$ the matrix $G$ and vector $h$ which define the constraint are \n",
    "\n",
    "$$G = \\begin{bmatrix} -1 & 0 \\\\ 0 & -1 \\end{bmatrix} \\ \\ \\text{and} \\ \\ h = \\begin{bmatrix} 0 \\\\ 0  \\end{bmatrix}$$\n",
    "\n",
    "### Computing the matrix $\\mathbf{H}$ in vectorized form\n",
    "\n",
    "Consider the simple example with 2 input samples $\\{x^{(1)}, x^{(2)}\\} \\in \\mathbb{R}^2$ which are two dimensional vectors. i.e. $x^{(1)} = (x_1^{(1)} , x_2^{(1)})^T$\n",
    "\n",
    "$$X = \\begin{bmatrix} x_1^{(1)} & x_2^{(1)} \\\\ x_1^{(2)} & x_2^{(2)} \\end{bmatrix} \\ \\ \\text{and} \\ \\ y = \\begin{bmatrix} y^{(1)}  \\\\ y^{(2)} \\end{bmatrix}$$\n",
    "\n",
    "We now proceed to creating a new matrix $X′$ where each input sample $x$ is multiplied by the corresponding output label y. This can be done easily in Numpy using vectorization and padding.\n",
    "\n",
    "$$X' = \\begin{bmatrix} x^{(1)}_1 y^{(1)} & x^{(1)}_2y^{(1)} \\\\\n",
    "x^{(2)}_1y^{(2)} & x^{(2)}_2y^{(2)} \\end{bmatrix}$$\n",
    "\n",
    "Finally we take the **matrix multiplication** of $X′$ and its transpose giving $H=X′X′^T$\n",
    "\n",
    "$$H = X' @ X'^T = \\begin{bmatrix} x^{(1)}_1 y^{(1)} & x^{(1)}_2y^{(1)} \\\\\n",
    "x^{(2)}_1y^{(2)} & x^{(2)}_2y^{(2)} \\end{bmatrix} \\begin{bmatrix} x^{(1)}_1 y^{(1)} & x^{(2)}_1 y^{(2)}  \\\\\n",
    "x^{(1)}_2y^{(1)} & x^{(2)}_2y^{(2)} \\end{bmatrix}$$\n",
    "\n",
    "$$H = \\begin{bmatrix}  x^{(1)}_1 x^{(1)}_1y^{(1)}y^{(1)} + x^{(1)}_2x^{(1)}_2y^{(1)}y^{(1)} & x^{(1)}_1 x^{(2)}_1y^{(1)}y^{(2)} + x^{(1)}_2x^{(2)}_2y^{(1)}y^{(2)} \\\\ x^{(2)}_1 x^{(1)}_1y^{(2)}y^{(1)} + x^{(2)}_2x^{(1)}_2y^{(2)}y^{(1)} & x^{(2)}_1 x^{(2)}_1y^{(2)}y^{(2)} + x^{(2)}_2x^{(2)}_2y^{(2)}y^{(2)} \\end{bmatrix}$$\n",
    "\n",
    "\n",
    "### Soft margin\n",
    "For the softmax margin SVM, recall that the optimization problem can be expressed as\n",
    "\n",
    "\\begin{aligned}\n",
    "    & \\max_{\\alpha} \\sum_i^m \\alpha_i  - \\frac{1}{2}  \\alpha^T \\mathbf{H}  \\alpha\n",
    "    \\\\\n",
    "     s.t. \\ \\ & 0 \\leq \\alpha_i \\leq C \n",
    "    \\\\\n",
    "    &  \\ \\sum_i^m \\alpha_i y^{(i)} = 0  \n",
    "\\end{aligned}\n",
    "\n",
    "which can be written in standard form as\n",
    "\n",
    "\\begin{aligned}\n",
    "    & \\min_{\\alpha}  \\frac{1}{2}  \\alpha^T \\mathbf{H}  \\alpha - 1^T \\alpha\n",
    "    \\\\\n",
    "     s.t. & \\ - \\alpha_i \\leq 0 \n",
    "    \\\\\n",
    "     & \\alpha_i \\leq C\n",
    "     \\\\\n",
    "     &\\ y^T \\alpha = 0  \n",
    "\\end{aligned}\n",
    "\n",
    "This is almost the same problem as previously, except for the additional inequality constraint on $\\alpha$. We translate this new constraint into standard form by concatenating below matrix $G$ a diagonal matrix of 1s of size $m \\times m$. Similarly for the vector $h$ to which the value of $C$ is added $m$ times.\n",
    "\n",
    "Note that in the simple example of $m=2$ the matrix $G$ and vector $h$ which define the constraint are\n",
    "\n",
    "$$G = \\begin{bmatrix} -1 & 0 \\\\ 0 & -1 \\\\ 1 & 0 \\\\ 0 & 1\\end{bmatrix} \\ \\ \\text{and} \\ \\ h = \\begin{bmatrix} 0 \\\\ 0 \\\\ C \\\\ C \\end{bmatrix}$$\n",
    "\n",
    "### Non linear case\n",
    "\n",
    "What has been written above corresponds to the hard and the soft margin case for a linear large margin classification problem.  \n",
    "\n",
    "You now need to appy the *kernel trick*, i.e. you need to replace the dot product operations in the input space $<x^{(i)} x^{(j)}>$ with the dot product in the feature space via a kernel function $K(x^{(i)},x^{(j)}) = <\\phi(x^{(i)}) \\phi(x^{(j)})>$. "
   ]
  },
  {
   "cell_type": "markdown",
   "metadata": {
    "deletable": false,
    "editable": false,
    "nbgrader": {
     "cell_type": "markdown",
     "checksum": "0ae72a7320640a54b394e73237a16577",
     "grade": false,
     "grade_id": "cell-75d6c8935cc1ffc0",
     "locked": true,
     "schema_version": 3,
     "solution": false,
     "task": false
    }
   },
   "source": [
    "## Question 9  [marks 0]\n",
    "\n",
    "**Do not consider this question**\n",
    "\n",
    "<strike>Make the function `X_prime = make_X_prime(X,t, kernel_function, param)` to compute $X′$ for a data matrix `X` and an associated target vector `t`.</strike>"
   ]
  },
  {
   "cell_type": "code",
   "execution_count": 439,
   "metadata": {
    "deletable": false,
    "nbgrader": {
     "cell_type": "code",
     "checksum": "a5d1f712fd2d8b84a3696a8e96efe12b",
     "grade": false,
     "grade_id": "cell-117b6a83713e630e",
     "locked": false,
     "schema_version": 3,
     "solution": true,
     "task": false
    }
   },
   "outputs": [
    {
     "ename": "IndentationError",
     "evalue": "unexpected indent (<ipython-input-439-401a2ab3c931>, line 6)",
     "output_type": "error",
     "traceback": [
      "\u001b[1;36m  File \u001b[1;32m\"<ipython-input-439-401a2ab3c931>\"\u001b[1;36m, line \u001b[1;32m6\u001b[0m\n\u001b[1;33m    raise NotImplementedError()\u001b[0m\n\u001b[1;37m    ^\u001b[0m\n\u001b[1;31mIndentationError\u001b[0m\u001b[1;31m:\u001b[0m unexpected indent\n"
     ]
    }
   ],
   "source": [
    "# This question is no longer valid. Do not consider it.\n",
    "# No implementation is necessary here.\n",
    "# Disregard the following: raise NotImplementedError()\n",
    "\n",
    "    # YOUR CODE HERE\n",
    "    raise NotImplementedError()"
   ]
  },
  {
   "cell_type": "code",
   "execution_count": 440,
   "metadata": {
    "deletable": false,
    "editable": false,
    "nbgrader": {
     "cell_type": "code",
     "checksum": "983c662e7025ee3fc24c5e06dccb1141",
     "grade": true,
     "grade_id": "cell-f9fccd4bb7897b2f",
     "locked": true,
     "points": 0,
     "schema_version": 3,
     "solution": false,
     "task": false
    }
   },
   "outputs": [],
   "source": [
    "# This cell is will not perform any unit tests. Do not consider this cell. "
   ]
  },
  {
   "cell_type": "markdown",
   "metadata": {
    "deletable": false,
    "editable": false,
    "nbgrader": {
     "cell_type": "markdown",
     "checksum": "42729c5c47d3457354d6732e7758fbab",
     "grade": false,
     "grade_id": "cell-967480ffce73f50c",
     "locked": true,
     "schema_version": 3,
     "solution": false,
     "task": false
    }
   },
   "source": [
    "## Question 10  [marks 5]\n",
    "\n",
    "Make the function `H = make_H_k(X,t, kernel_function, param)` to compute the matrix $H$ for a data matrix `X` and an associated target vector `t` given a kernel function `kernel_function` with parameter `param`. "
   ]
  },
  {
   "cell_type": "code",
   "execution_count": 442,
   "metadata": {
    "deletable": false,
    "nbgrader": {
     "cell_type": "code",
     "checksum": "db4ff559451f91f97b3b4a78fbdcf247",
     "grade": false,
     "grade_id": "cell-1ee2d9cf92d42934",
     "locked": false,
     "schema_version": 3,
     "solution": true,
     "task": false
    }
   },
   "outputs": [],
   "source": [
    "def make_H_k(X,t, kernel_function, param):\n",
    "    rows,columns = X.shape\n",
    "    mat = np.zeros((rows, rows))\n",
    "    for i in range(rows):\n",
    "        for j in range(rows):\n",
    "            mat[i, j] = kernel_function(X[i], X[j],param)\n",
    "    mat = np.outer(t,t) * mat\n",
    "    return mat"
   ]
  },
  {
   "cell_type": "code",
   "execution_count": 443,
   "metadata": {
    "deletable": false,
    "editable": false,
    "nbgrader": {
     "cell_type": "code",
     "checksum": "510937b3ba89466674ee58169b08bf3f",
     "grade": true,
     "grade_id": "cell-a7457326444282a9",
     "locked": true,
     "points": 5,
     "schema_version": 3,
     "solution": false,
     "task": false
    }
   },
   "outputs": [],
   "source": [
    "# This cell is reserved for the unit tests. Do not consider this cell. "
   ]
  },
  {
   "cell_type": "markdown",
   "metadata": {
    "deletable": false,
    "editable": false,
    "nbgrader": {
     "cell_type": "markdown",
     "checksum": "1e68af2f83a09419ff76a372e0fe3200",
     "grade": false,
     "grade_id": "cell-ab9d4b8a31cb8d26",
     "locked": true,
     "schema_version": 3,
     "solution": false,
     "task": false
    }
   },
   "source": [
    "## Question 11  [marks 3]\n",
    "\n",
    "Make the function `P, q, G, h, A, b = setup_optimization_soft_k(X, t, C, kernel_function, param)` to compute the necessary matrices to solve the QP problem associated to the soft margin kernelized classification task using the library [cvxopt](http://cvxopt.org/). The function receives in input a data matrix `X`, an associated target vector `t`, a regularization parameter `C` and a kernel function `kernel_function` with parameter `param`. "
   ]
  },
  {
   "cell_type": "code",
   "execution_count": 444,
   "metadata": {
    "deletable": false,
    "nbgrader": {
     "cell_type": "code",
     "checksum": "ee8898f096cd3be1f5e0c92424689220",
     "grade": false,
     "grade_id": "cell-3c3a89429165cdc9",
     "locked": false,
     "schema_version": 3,
     "solution": true,
     "task": false
    }
   },
   "outputs": [],
   "source": [
    "def setup_optimization_soft_k(X,t,C, kernel_function, param):\n",
    "    rows, n = X.shape    \n",
    "    t = t.reshape(-1, 1).astype(float)\n",
    "    H_K = make_H_k(X,t, kernel_function, param)\n",
    "\n",
    "    P = cvxopt.matrix(H_K)\n",
    "    q = cvxopt.matrix(np.ones(rows) * -1)\n",
    "    A = cvxopt.matrix(t, (1, rows))\n",
    "    b = cvxopt.matrix(0.0)\n",
    "\n",
    "    if C is None :\n",
    "        G = cvxopt.matrix(np.eye(np.ones(rows) * -1))\n",
    "        h = cvxopt.matrix(np.zeros(rows))\n",
    "    else:\n",
    "    \n",
    "        mat = np.diag(np.ones(rows) * -1)\n",
    "        mat1 = np.identity(rows)\n",
    "        G = cvxopt.matrix(np.vstack((mat, mat1)))\n",
    "        mat = np.zeros(rows)\n",
    "        mat1 = np.ones(rows) *C\n",
    "        h = cvxopt.matrix(np.hstack((mat, mat1)))\n",
    "\n",
    "    return P, q, G, h, A, b\n"
   ]
  },
  {
   "cell_type": "code",
   "execution_count": 445,
   "metadata": {
    "deletable": false,
    "editable": false,
    "nbgrader": {
     "cell_type": "code",
     "checksum": "c6fd40d47ba10a0cd14759def45b5c74",
     "grade": true,
     "grade_id": "cell-e162fd0d728ec39e",
     "locked": true,
     "points": 3,
     "schema_version": 3,
     "solution": false,
     "task": false
    }
   },
   "outputs": [],
   "source": [
    "# This cell is reserved for the unit tests. Do not consider this cell. "
   ]
  },
  {
   "cell_type": "markdown",
   "metadata": {
    "deletable": false,
    "editable": false,
    "nbgrader": {
     "cell_type": "markdown",
     "checksum": "06951bea8e605640e33c1db5c41760df",
     "grade": false,
     "grade_id": "cell-a0e161c44dd7209b",
     "locked": true,
     "schema_version": 3,
     "solution": false,
     "task": false
    }
   },
   "source": [
    "## Question 12  [marks 1]\n",
    "\n",
    "Make the function `support_vectors, support_targets, support_alphas, support_ids = compute_support_vectors(X,t,alphas)`  to compute:\n",
    "- `support_vectors` the support vectors\n",
    "- `support_targets` the target vector associated to the support vectors\n",
    "- `support_alphas` the vector of the dual variables $\\alpha_i$ associated to the support vectors\n",
    "- `support_ids` a boolean vector that indicates if a position is associated to a support vector (w.r.t. the original data matrix) (i.e. if the first instance is a support vector and the second one it is not, then `support_ids` = [True, False])"
   ]
  },
  {
   "cell_type": "code",
   "execution_count": 446,
   "metadata": {
    "deletable": false,
    "nbgrader": {
     "cell_type": "code",
     "checksum": "a3527bf9364c0211e3232bb6b526e06a",
     "grade": false,
     "grade_id": "cell-a3fbd2ca00fabac7",
     "locked": false,
     "schema_version": 3,
     "solution": true,
     "task": false
    }
   },
   "outputs": [],
   "source": [
    "def compute_support_vectors(X,t,alphas):\n",
    "    mat = t.reshape(-1, 1).astype(float)\n",
    "    support_ids = (alphas > 1e-5).flatten()\n",
    "    support_vectors = X[support_ids]\n",
    "    support_targets = mat[support_ids]\n",
    "    support_alphas = alphas[support_ids]\n",
    "    return support_vectors,support_targets,support_alphas, support_ids"
   ]
  },
  {
   "cell_type": "code",
   "execution_count": 447,
   "metadata": {
    "deletable": false,
    "editable": false,
    "nbgrader": {
     "cell_type": "code",
     "checksum": "cb9e089824fbd00ef95b3d42d023d3e4",
     "grade": true,
     "grade_id": "cell-5b47648439343ab9",
     "locked": true,
     "points": 1,
     "schema_version": 3,
     "solution": false,
     "task": false
    }
   },
   "outputs": [],
   "source": [
    "# This cell is reserved for the unit tests. Do not consider this cell. "
   ]
  },
  {
   "cell_type": "markdown",
   "metadata": {
    "deletable": false,
    "editable": false,
    "nbgrader": {
     "cell_type": "markdown",
     "checksum": "838ff351b39ff98e17d246511b11e189",
     "grade": false,
     "grade_id": "cell-e61e6b7ff7e05a1e",
     "locked": true,
     "schema_version": 3,
     "solution": false,
     "task": false
    }
   },
   "source": [
    "## Question 13  [marks 2]\n",
    "\n",
    "Make the function `model = train_slmkc(X, t, C, kernel_function, param)` to compute the necessary elements to represent a kernelized soft large margin classifier trained over an input data matrix `X` with an associated target vector `t`, for a regularization parameter `C` and a kernel function `kernel_function` with parameter `param`. \n",
    "\n",
    "Note: you may implement `model` as a tuple containing information on the support vectors and the dual variables, i.e. `model = (support_vectors,support_targets,support_alphas, support_ids)`."
   ]
  },
  {
   "cell_type": "code",
   "execution_count": 448,
   "metadata": {
    "deletable": false,
    "nbgrader": {
     "cell_type": "code",
     "checksum": "374d36436bc8063f75c810f05bd584bb",
     "grade": false,
     "grade_id": "cell-4326ff86d3333ede",
     "locked": false,
     "schema_version": 3,
     "solution": true,
     "task": false
    }
   },
   "outputs": [],
   "source": [
    "def train_slmkc(X, t, C, kernel_function, param):\n",
    "    \n",
    "    P, q, G, h, A, b = setup_optimization_soft_k(X,t,C,kernel_function, param)\n",
    "\n",
    " \n",
    "    solvers.options['show_progress'] = False\n",
    "    solvers.options['abstol'] = 1e-10\n",
    "    solvers.options['reltol'] = 1e-10\n",
    "    solvers.options['feastol'] = 1e-10\n",
    "\n",
    "\n",
    "    solution_dict = cvxopt.solvers.qp(P, q, G, h, A, b)\n",
    "    alphas = np.ravel(solution_dict['x'])\n",
    "   \n",
    "    support_vectors,support_targets,support_alphas, support_ids = compute_support_vectors(X,t,alphas)\n",
    "   \n",
    "    model = support_vectors,support_targets,support_alphas, support_ids\n",
    "\n",
    "    return model"
   ]
  },
  {
   "cell_type": "code",
   "execution_count": 449,
   "metadata": {
    "deletable": false,
    "editable": false,
    "nbgrader": {
     "cell_type": "code",
     "checksum": "0dd1bd236c4b72b755978ed28752862f",
     "grade": true,
     "grade_id": "cell-9e67f349a95fa964",
     "locked": true,
     "points": 2,
     "schema_version": 3,
     "solution": false,
     "task": false
    }
   },
   "outputs": [],
   "source": [
    "# This cell is reserved for the unit tests. Do not consider this cell. "
   ]
  },
  {
   "cell_type": "markdown",
   "metadata": {
    "deletable": false,
    "editable": false,
    "nbgrader": {
     "cell_type": "markdown",
     "checksum": "8285e770d6fa271ef9fe699afc41250d",
     "grade": false,
     "grade_id": "cell-4a38a45da3977a8a",
     "locked": true,
     "schema_version": 3,
     "solution": false,
     "task": false
    }
   },
   "source": [
    "## Question 14  [marks 7]\n",
    "\n",
    "Given the kernelized soft large margin discriminant function of the form:\n",
    "$$ y(x) = \\sum_{n \\in SV} \\alpha_n t_n K(x_n,x) + b $$\n",
    "\n",
    "and given the encoded `model` to represent the necessary elements for a trained kernelized soft large margin classifier\n",
    "\n",
    "make the function `b = compute_bias(kernel_function, param, C, model)` to compute the offset/bias term `b`,  for a regularization parameter `C` and a kernel function `kernel_function` with parameter `param`. "
   ]
  },
  {
   "cell_type": "code",
   "execution_count": 450,
   "metadata": {
    "deletable": false,
    "nbgrader": {
     "cell_type": "code",
     "checksum": "a98c459078bed69dacd968750e1bbb39",
     "grade": false,
     "grade_id": "cell-3c803de0bb5aa809",
     "locked": false,
     "schema_version": 3,
     "solution": true,
     "task": false
    }
   },
   "outputs": [],
   "source": [
    "def compute_bias(kernel_function, param, C, model):\n",
    "    support_vectors,support_targets,support_alphas, support_ids = model\n",
    "    offset = 0\n",
    "    for i in range(len(support_alphas)):\n",
    "        offset -= np.sum(support_alphas[i] * support_targets[i] * kernel_function(support_vectors[i], support_vectors,param))\n",
    "        offset += support_targets[i] \n",
    "    return offset / len(support_alphas)"
   ]
  },
  {
   "cell_type": "code",
   "execution_count": 451,
   "metadata": {
    "deletable": false,
    "editable": false,
    "nbgrader": {
     "cell_type": "code",
     "checksum": "c56bdf802639acf8162f25db0c8b66e0",
     "grade": true,
     "grade_id": "cell-11948a6db40d83c7",
     "locked": true,
     "points": 3,
     "schema_version": 3,
     "solution": false,
     "task": false
    }
   },
   "outputs": [],
   "source": [
    "# This cell is reserved for the unit tests. Do not consider this cell. "
   ]
  },
  {
   "cell_type": "code",
   "execution_count": 452,
   "metadata": {
    "deletable": false,
    "editable": false,
    "nbgrader": {
     "cell_type": "code",
     "checksum": "6f7edb561f8b27b066fd0ecbd3416fc6",
     "grade": true,
     "grade_id": "cell-346d9d624da48a38",
     "locked": true,
     "points": 4,
     "schema_version": 3,
     "solution": false,
     "task": false
    }
   },
   "outputs": [],
   "source": [
    "# This cell is reserved for the unit tests. Do not consider this cell. "
   ]
  },
  {
   "cell_type": "markdown",
   "metadata": {
    "deletable": false,
    "editable": false,
    "nbgrader": {
     "cell_type": "markdown",
     "checksum": "5ee25321abc9a67fbd4aee3afaeba23d",
     "grade": false,
     "grade_id": "cell-e467e35ebbd2de02",
     "locked": true,
     "schema_version": 3,
     "solution": false,
     "task": false
    }
   },
   "source": [
    "## Question 15  [marks 7]\n",
    "\n",
    "Make the function `scores = score_slmkc(X_test, kernel_function, param, C, model)` to compute the scores for the kernelized soft large margin discriminant function over the data matrix `X_test`, for a regularization parameter `C`, a kernel function `kernel_function` with parameter `param` and an encoded model `model`."
   ]
  },
  {
   "cell_type": "code",
   "execution_count": 453,
   "metadata": {
    "deletable": false,
    "nbgrader": {
     "cell_type": "code",
     "checksum": "e813bbee21da993746a07ff727f776cd",
     "grade": false,
     "grade_id": "cell-4703c86bda07adb7",
     "locked": false,
     "schema_version": 3,
     "solution": true,
     "task": false
    }
   },
   "outputs": [],
   "source": [
    "def score_slmkc(X_test, kernel_function, param, C, model):\n",
    "    support_vectors,support_targets,support_alphas, support_ids = model\n",
    "    offset = compute_bias(kernel_function, param, C, model)\n",
    "    p = []\n",
    "    for sample in X_test:\n",
    "        anumaan = 0\n",
    "        for x in range(len(support_vectors)):\n",
    "            anumaan += (support_targets[x] * support_alphas[x])* kernel_function(support_vectors[x],sample,param)\n",
    "        anumaan += offset\n",
    "        p.append(anumaan)\n",
    "    p = np.asarray(p)\n",
    "    return p"
   ]
  },
  {
   "cell_type": "code",
   "execution_count": 454,
   "metadata": {
    "deletable": false,
    "editable": false,
    "nbgrader": {
     "cell_type": "code",
     "checksum": "f8dc6cade7b78c00caf475d97014f8da",
     "grade": true,
     "grade_id": "cell-c19c5c23e0cf70b3",
     "locked": true,
     "points": 3,
     "schema_version": 3,
     "solution": false,
     "task": false
    }
   },
   "outputs": [],
   "source": [
    "# This cell is reserved for the unit tests. Do not consider this cell. "
   ]
  },
  {
   "cell_type": "code",
   "execution_count": 455,
   "metadata": {
    "deletable": false,
    "editable": false,
    "nbgrader": {
     "cell_type": "code",
     "checksum": "6507ec87750af38175399462fe522e4a",
     "grade": true,
     "grade_id": "cell-2d07a2d793c36f8c",
     "locked": true,
     "points": 4,
     "schema_version": 3,
     "solution": false,
     "task": false
    }
   },
   "outputs": [],
   "source": [
    "# This cell is reserved for the unit tests. Do not consider this cell. "
   ]
  },
  {
   "cell_type": "markdown",
   "metadata": {
    "deletable": false,
    "editable": false,
    "nbgrader": {
     "cell_type": "markdown",
     "checksum": "b4ec162725527acd96ef8faae48330f7",
     "grade": false,
     "grade_id": "cell-926b98259b41ce16",
     "locked": true,
     "schema_version": 3,
     "solution": false,
     "task": false
    }
   },
   "source": [
    "## Question 16  [marks 2]\n",
    "\n",
    "Make the function `preds = test_slmkc(X_test, kernel_function, param, C, model)` to predict the class label for the kernelized soft large margin discriminant function over the data matrix `X_test`, for a regularization parameter `C`, a kernel function `kernel_function` with parameter `param` and an encoded model `model`."
   ]
  },
  {
   "cell_type": "code",
   "execution_count": 456,
   "metadata": {
    "deletable": false,
    "nbgrader": {
     "cell_type": "code",
     "checksum": "7744411769f7b78397d71f532e04f4b0",
     "grade": false,
     "grade_id": "cell-24355bf36a32c0da",
     "locked": false,
     "schema_version": 3,
     "solution": true,
     "task": false
    }
   },
   "outputs": [],
   "source": [
    "def test_slmkc(X_test, kernel_function, param, C, model):\n",
    "    p = np.sign(score_slmkc(X_test, kernel_function, param, C, model)).astype(int)\n",
    "    return p.ravel()"
   ]
  },
  {
   "cell_type": "code",
   "execution_count": 457,
   "metadata": {
    "deletable": false,
    "editable": false,
    "nbgrader": {
     "cell_type": "code",
     "checksum": "d1cd65a868b96a35d9981f898cf8577f",
     "grade": true,
     "grade_id": "cell-1776271de96ca7a0",
     "locked": true,
     "points": 2,
     "schema_version": 3,
     "solution": false,
     "task": false
    }
   },
   "outputs": [],
   "source": [
    "# This cell is reserved for the unit tests. Do not consider this cell. "
   ]
  },
  {
   "cell_type": "code",
   "execution_count": 458,
   "metadata": {
    "deletable": false,
    "editable": false,
    "nbgrader": {
     "cell_type": "code",
     "checksum": "5509efa14142289ecca03874386ce18b",
     "grade": false,
     "grade_id": "cell-2e2dd54e50e27abd",
     "locked": true,
     "schema_version": 3,
     "solution": false,
     "task": false
    }
   },
   "outputs": [],
   "source": [
    "# this function is provided to you, you do not need to alter it in any way.\n",
    "\n",
    "class MySoftLargeMarginKernelClassfier(object):\n",
    "    def __init__(self, C, kernel_function, param):\n",
    "        self.kernel_function = kernel_function\n",
    "        self.param = param\n",
    "        self.C = C\n",
    "        self.support_vectors = None\n",
    "        self.support_targets = None\n",
    "        self.support_alphas = None\n",
    "        self.support_ids = None\n",
    "    \n",
    "    def fit(self, X_train, y_train):\n",
    "        self.model = train_slmkc(X_train, y_train, self.C, self.kernel_function, self.param)\n",
    "        self.support_vectors, self.support_targets,self.support_alphas, self.support_ids = self.model\n",
    "        return self\n",
    "    \n",
    "    def predict(self, X_test):\n",
    "        return test_slmkc(X_test, self.kernel_function, self.param, self.C, self.model)\n",
    "        \n",
    "    def decision_function(self, X_test):\n",
    "        return score_slmkc(X_test, self.kernel_function, self.param, self.C, self.model)\n",
    "    \n",
    "    def predict_proba(self, X_test):\n",
    "        scores = self.decision_function(X_test)\n",
    "        probs = 1 / (1 + np.exp(-scores))\n",
    "        return probs"
   ]
  },
  {
   "cell_type": "markdown",
   "metadata": {
    "deletable": false,
    "editable": false,
    "nbgrader": {
     "cell_type": "markdown",
     "checksum": "d4bf44abdd87ab3148fa3ab6541084c4",
     "grade": false,
     "grade_id": "cell-c42a25e2add6ea41",
     "locked": true,
     "schema_version": 3,
     "solution": false,
     "task": false
    }
   },
   "source": [
    "## Question 17  [marks 2]\n",
    "\n",
    "Make the function `linear_kernel_function(x1,x2,param=None)` corresponding to the linear kernel defined as:\n",
    "$$ K(x_1,x_2) =  x_1^T x_2 $$\n",
    "where $x_1$ and $x_2$ are vectors. "
   ]
  },
  {
   "cell_type": "code",
   "execution_count": 459,
   "metadata": {
    "deletable": false,
    "nbgrader": {
     "cell_type": "code",
     "checksum": "25ebb8ec838a86294e12ba2dec990d02",
     "grade": false,
     "grade_id": "cell-5e08bd156018ddab",
     "locked": false,
     "schema_version": 3,
     "solution": true,
     "task": false
    }
   },
   "outputs": [],
   "source": [
    "def linear_kernel_function(x1,x2,param=None):\n",
    "    return np.inner(x1,x2)"
   ]
  },
  {
   "cell_type": "code",
   "execution_count": 460,
   "metadata": {
    "deletable": false,
    "editable": false,
    "nbgrader": {
     "cell_type": "code",
     "checksum": "0754bc811340c2fcc29d7d20415228ee",
     "grade": true,
     "grade_id": "cell-5becf31446e43db2",
     "locked": true,
     "points": 2,
     "schema_version": 3,
     "solution": false,
     "task": false
    }
   },
   "outputs": [],
   "source": [
    "# This cell is reserved for the unit tests. Do not consider this cell. "
   ]
  },
  {
   "cell_type": "markdown",
   "metadata": {
    "deletable": false,
    "editable": false,
    "nbgrader": {
     "cell_type": "markdown",
     "checksum": "fcb504f72dd510a557be6f8f9744b2be",
     "grade": false,
     "grade_id": "cell-8bf0e1d6f05df801",
     "locked": true,
     "schema_version": 3,
     "solution": false,
     "task": false
    }
   },
   "source": [
    "## Question 18  [marks 3]\n",
    "\n",
    "Make the function `polynomial_kernel_function(x1,x2,param)` corresponding to the polynomial kernel defined by the parameter $r=$`param`:\n",
    "$$ K(x_1,x_2) =  (1 + x_1^T x_2)^r$$\n",
    "where $x_1$ and $x_2$ are vectors. "
   ]
  },
  {
   "cell_type": "code",
   "execution_count": 461,
   "metadata": {
    "deletable": false,
    "nbgrader": {
     "cell_type": "code",
     "checksum": "c5f4f1a14224627536717957ec40fa64",
     "grade": false,
     "grade_id": "cell-65e510a6f055e1ae",
     "locked": false,
     "schema_version": 3,
     "solution": true,
     "task": false
    }
   },
   "outputs": [],
   "source": [
    "def polynomial_kernel_function(x1,x2,param):\n",
    "    return (np.inner(x1.T,x2) + 1)**param"
   ]
  },
  {
   "cell_type": "code",
   "execution_count": 462,
   "metadata": {
    "deletable": false,
    "editable": false,
    "nbgrader": {
     "cell_type": "code",
     "checksum": "0c45d82fe582ce8b281e8bcfa8c49926",
     "grade": true,
     "grade_id": "cell-6a7118bdb09c9bab",
     "locked": true,
     "points": 3,
     "schema_version": 3,
     "solution": false,
     "task": false
    }
   },
   "outputs": [],
   "source": [
    "# This cell is reserved for the unit tests. Do not consider this cell. "
   ]
  },
  {
   "cell_type": "code",
   "execution_count": 463,
   "metadata": {
    "deletable": false,
    "editable": false,
    "nbgrader": {
     "cell_type": "code",
     "checksum": "faa0a004564e57961c8d28da4f8b048b",
     "grade": false,
     "grade_id": "cell-971973071cc0399e",
     "locked": true,
     "schema_version": 3,
     "solution": false,
     "task": false
    }
   },
   "outputs": [],
   "source": [
    "# this function is provided to you, you do not need to alter it in any way.\n",
    "\n",
    "def plot(X, y, support_vectors=None, predict_func=None):\n",
    "    cmap='bwr'\n",
    "    res = 100\n",
    "    x_min, x_max = X[:, 0].min(), X[:, 0].max()\n",
    "    y_min, y_max = X[:, 1].min(), X[:, 1].max()\n",
    "    delta = max((x_max-x_min)/5, (y_max-y_min)/5)\n",
    "    x_min -= delta\n",
    "    y_min -= delta\n",
    "    x_max += delta\n",
    "    y_max += delta\n",
    "    xx, yy = np.meshgrid(np.linspace(x_min, x_max, res),np.linspace(y_min, y_max, res))\n",
    "    if predict_func is None:\n",
    "        Z = np.ones(xx.shape)*.5\n",
    "    else:\n",
    "        Z = predict_func(np.hstack([xx.reshape(-1,1), yy.reshape(-1,1)]))\n",
    "        if Z.ndim == 1:\n",
    "            Z = Z.reshape(xx.shape)\n",
    "        else:\n",
    "            Z = Z[:,-1].reshape(xx.shape)\n",
    "    if support_vectors is None:\n",
    "        edge_colors = 'w'\n",
    "        sizes = 50\n",
    "    else:\n",
    "        edge_colors = ['k' if s else 'w' for s in support_vectors]\n",
    "        sizes = [100 if s else 50 for s in support_vectors]\n",
    "    plt.figure(figsize=(5,5))\n",
    "    plt.contourf(xx, yy, Z, levels=20, cmap=cmap, alpha=.5)\n",
    "    plt.scatter(X[:,0],X[:,1], c=y, s=sizes, edgecolors=edge_colors, cmap=cmap)\n",
    "    plt.grid()\n",
    "    plt.axis('equal')\n",
    "    plt.show()"
   ]
  },
  {
   "cell_type": "markdown",
   "metadata": {
    "deletable": false,
    "editable": false,
    "nbgrader": {
     "cell_type": "markdown",
     "checksum": "84bc5a10e77be84ac1938cb9bfd14a38",
     "grade": false,
     "grade_id": "cell-3a091bca810f39dd",
     "locked": true,
     "schema_version": 3,
     "solution": false,
     "task": false
    }
   },
   "source": [
    "## Checkpoint\n",
    "\n",
    "This is just a check-point, i.e. it is for you to see that you are correctly implementing all functions. \n",
    "\n",
    "Execute the following code (just execute the next cell):\n",
    "\n",
    "```python\n",
    "from sklearn.datasets import make_classification\n",
    "X,y = make_classification(n_samples=100, n_features=2, n_informative=2, n_redundant=0, n_repeated=0, n_classes=2, n_clusters_per_class=2, weights=None, flip_y=0.0, class_sep=1.0, random_state=5)\n",
    "y[y==0]=-1\n",
    "\n",
    "est = MySoftLargeMarginKernelClassfier(C=1e2, kernel_function=linear_kernel_function, param=None).fit(X, y)\n",
    "plot(X,y, support_vectors=est.support_ids, predict_func=est.predict_proba)\n",
    "\n",
    "est = MySoftLargeMarginKernelClassfier(C=1e-2, kernel_function=polynomial_kernel_function, param=5).fit(X, y)\n",
    "plot(X,y, support_vectors=est.support_ids, predict_func=est.predict_proba)\n",
    "```\n",
    "\n",
    "You should obtain something like:\n",
    "\n",
    "<img src='plot3.png' width=300>"
   ]
  },
  {
   "cell_type": "code",
   "execution_count": 464,
   "metadata": {
    "deletable": false,
    "editable": false,
    "nbgrader": {
     "cell_type": "code",
     "checksum": "3f4b848a92091e08074f3f47993337f7",
     "grade": false,
     "grade_id": "cell-50ac012e8a9821ce",
     "locked": true,
     "schema_version": 3,
     "solution": false,
     "task": false
    },
    "scrolled": false
   },
   "outputs": [
    {
     "data": {
      "image/png": "[encoded data removed]",
      "text/plain": [
       "<Figure size 360x360 with 1 Axes>"
      ]
     },
     "metadata": {
      "needs_background": "light"
     },
     "output_type": "display_data"
    },
    {
     "data": {
      "image/png": "[encoded data removed]",
      "text/plain": [
       "<Figure size 360x360 with 1 Axes>"
      ]
     },
     "metadata": {
      "needs_background": "light"
     },
     "output_type": "display_data"
    }
   ],
   "source": [
    "# Just run the following code, do not modify it\n",
    "\n",
    "from sklearn.datasets import make_classification\n",
    "X,y = make_classification(n_samples=100, n_features=2, n_informative=2, n_redundant=0, n_repeated=0, n_classes=2, n_clusters_per_class=2, weights=None, flip_y=0.0, class_sep=1.0, random_state=5)\n",
    "y[y==0]=-1\n",
    "\n",
    "est = MySoftLargeMarginKernelClassfier(C=1e2, kernel_function=linear_kernel_function, param=None).fit(X, y)\n",
    "plot(X,y, support_vectors=est.support_ids, predict_func=est.predict_proba)\n",
    "\n",
    "est = MySoftLargeMarginKernelClassfier(C=1e-2, kernel_function=polynomial_kernel_function, param=5).fit(X, y)\n",
    "plot(X,y, support_vectors=est.support_ids, predict_func=est.predict_proba)"
   ]
  },
  {
   "cell_type": "markdown",
   "metadata": {
    "deletable": false,
    "editable": false,
    "nbgrader": {
     "cell_type": "markdown",
     "checksum": "48c34af00916b6fed1e3c93320c29554",
     "grade": false,
     "grade_id": "cell-061d36fea0f2e37e",
     "locked": true,
     "schema_version": 3,
     "solution": false,
     "task": false
    }
   },
   "source": [
    "## Question 19  [marks 1]\n",
    "\n",
    "\n",
    "a) Make a function `estimator = train_svm(X_train, y_train, param)` that takes in input a data matrix `X_train`, an associated target array `y_train`, and a single scalar parameter `param` which corresponds to the regularization parameter of the linear Support Vector machine classifier, and returns a fit classifier object of type `sklearn.svm.LinearSVC`.\n",
    "\n",
    "b) Make a function `preds = test_svm(X_test, classifier)` that takes in input a data matrix `X_test`, a classifier object `classifier` and returns the prediction array `preds`.\n",
    "\n",
    "c) Make a function `scores = score_svm(X_test, classifier)` that takes in input a data matrix `X_test`, a classifier object `classifier` and returns the array `scores` containing the distance from the decision surface  for each instance."
   ]
  },
  {
   "cell_type": "code",
   "execution_count": 465,
   "metadata": {
    "deletable": false,
    "nbgrader": {
     "cell_type": "code",
     "checksum": "1faa5a37f76fe291f1adb56fbeb91723",
     "grade": false,
     "grade_id": "cell-060b2b2211d73abd",
     "locked": false,
     "schema_version": 3,
     "solution": true,
     "task": false
    }
   },
   "outputs": [],
   "source": [
    "from sklearn.svm import LinearSVC\n",
    "\n",
    "def train_svm(X_train, y_train, param):\n",
    "    clf = LinearSVC(C = param)\n",
    "    clf = clf.fit(X_train, y_train)\n",
    "    return clf"
   ]
  },
  {
   "cell_type": "code",
   "execution_count": 466,
   "metadata": {
    "deletable": false,
    "editable": false,
    "nbgrader": {
     "cell_type": "code",
     "checksum": "6d329bba112f222def028dec45076fa8",
     "grade": true,
     "grade_id": "cell-f6ede79deccd0f43",
     "locked": true,
     "points": 1,
     "schema_version": 3,
     "solution": false,
     "task": false
    }
   },
   "outputs": [],
   "source": [
    "# This cell is reserved for the unit tests. Do not consider this cell. "
   ]
  },
  {
   "cell_type": "code",
   "execution_count": 467,
   "metadata": {
    "deletable": false,
    "nbgrader": {
     "cell_type": "code",
     "checksum": "7b3c55adeab4922edb66624f10355db6",
     "grade": false,
     "grade_id": "cell-f4e3879baaae1837",
     "locked": false,
     "schema_version": 3,
     "solution": true,
     "task": false
    }
   },
   "outputs": [],
   "source": [
    "def test_svm(X_test, estimator):\n",
    "    result = estimator.predict(X_test)\n",
    "    return result"
   ]
  },
  {
   "cell_type": "code",
   "execution_count": 468,
   "metadata": {
    "deletable": false,
    "editable": false,
    "nbgrader": {
     "cell_type": "code",
     "checksum": "0a4e8ccd15e0a5fdba7cb2cc18baae61",
     "grade": true,
     "grade_id": "cell-505df75a1c150ab0",
     "locked": true,
     "points": 1,
     "schema_version": 3,
     "solution": false,
     "task": false
    }
   },
   "outputs": [],
   "source": [
    "# This cell is reserved for the unit tests. Do not consider this cell. "
   ]
  },
  {
   "cell_type": "code",
   "execution_count": 469,
   "metadata": {
    "deletable": false,
    "nbgrader": {
     "cell_type": "code",
     "checksum": "8ea659eb850db49696edca4627d5fea5",
     "grade": false,
     "grade_id": "cell-8596fed8bc7596d1",
     "locked": false,
     "schema_version": 3,
     "solution": true,
     "task": false
    }
   },
   "outputs": [],
   "source": [
    "def score_svm(X_test, estimator):\n",
    "    est = estimator.decision_function(X_test)\n",
    "    return est"
   ]
  },
  {
   "cell_type": "code",
   "execution_count": 470,
   "metadata": {
    "deletable": false,
    "editable": false,
    "nbgrader": {
     "cell_type": "code",
     "checksum": "3a361861e7fff56be1e0dc3528d4b011",
     "grade": true,
     "grade_id": "cell-30af6f8ad25d13c5",
     "locked": true,
     "points": 1,
     "schema_version": 3,
     "solution": false,
     "task": false
    }
   },
   "outputs": [],
   "source": [
    "# This cell is reserved for the unit tests. Do not consider this cell. "
   ]
  },
  {
   "cell_type": "markdown",
   "metadata": {
    "deletable": false,
    "editable": false,
    "nbgrader": {
     "cell_type": "markdown",
     "checksum": "cdcd3831e6a4d106e00fc9b9dcbd487e",
     "grade": false,
     "grade_id": "cell-2d4ca118647d4f02",
     "locked": true,
     "schema_version": 3,
     "solution": false,
     "task": false
    }
   },
   "source": [
    "## Question 20  [marks 2]\n",
    "\n",
    "\n",
    "The one-vs-one strategy constructs one classifier per pair of classes. At prediction time, the class which received the most votes is selected. \n",
    "\n",
    "In the event of a tie (among all those cases that achieve an equal number of votes), it selects the class with the highest aggregate classification confidence by summing over the pair-wise classification confidence levels computed by the underlying binary classifiers.\n",
    "\n",
    "Make the function `estimators = train_OvO(X_train, y_train, train_func, param)` that takes in input the data matrix `X_train`, the target vector `y_train`, the training procedure `train_func` with an associated parameter `param` and it outputs an object that represent the estimators fit using the OvO strategy."
   ]
  },
  {
   "cell_type": "code",
   "execution_count": 471,
   "metadata": {
    "deletable": false,
    "nbgrader": {
     "cell_type": "code",
     "checksum": "220faffd230a0c73ac768e9b9be4f045",
     "grade": false,
     "grade_id": "cell-fa80f2a123aa72c8",
     "locked": false,
     "schema_version": 3,
     "solution": true,
     "task": false
    }
   },
   "outputs": [],
   "source": [
    "def train_OvO(X_train, y_train, train_func, param):\n",
    "    classes = sorted(set(y_train))\n",
    "    estimators = dict()\n",
    "    for i,ci in enumerate(classes):\n",
    "        for j,cj in enumerate(classes):\n",
    "            if j>i:\n",
    "                X = X_train.copy()\n",
    "                X = X[np.logical_or(y_train==ci,y_train==cj)]\n",
    "                y = y_train.copy()\n",
    "                y = y[np.logical_or(y_train==ci,y_train==cj)]\n",
    "                yp = y.copy()\n",
    "                yp[y==ci] = 1\n",
    "                yp[y==cj] = -1\n",
    "                est = train_func(X, yp, param)\n",
    "                estimators[(i,j)] = est\n",
    "    return estimators"
   ]
  },
  {
   "cell_type": "code",
   "execution_count": 472,
   "metadata": {
    "deletable": false,
    "editable": false,
    "nbgrader": {
     "cell_type": "code",
     "checksum": "2a025a5236e0f39db10cdb602534f909",
     "grade": true,
     "grade_id": "cell-b2b7104eed779b41",
     "locked": true,
     "points": 2,
     "schema_version": 3,
     "solution": false,
     "task": false
    }
   },
   "outputs": [],
   "source": [
    "# This cell is reserved for the unit tests. Do not consider this cell. "
   ]
  },
  {
   "cell_type": "markdown",
   "metadata": {
    "deletable": false,
    "editable": false,
    "nbgrader": {
     "cell_type": "markdown",
     "checksum": "cc8248d0c8ac5958f876c23bedf5d8b7",
     "grade": false,
     "grade_id": "cell-d933efd25803e8bb",
     "locked": true,
     "schema_version": 3,
     "solution": false,
     "task": false
    }
   },
   "source": [
    "## Question 21  [marks 7]\n",
    "\n",
    "Make the function `preds = test_OvO(X_test, test_func, score_func, estimators)` that takes in input the data matrix `X_test`, the classification procedure `test_func`, the score function `score_func`, the estimators object and it returns the predicted class for each instance in the data matrix using the OvO strategy.\n",
    "\n",
    "Note: only when two or more classifiers end up in a tie the algorithm should resort to the score to break the tie. "
   ]
  },
  {
   "cell_type": "code",
   "execution_count": 473,
   "metadata": {
    "deletable": false,
    "nbgrader": {
     "cell_type": "code",
     "checksum": "61d2f3b8157f267e6ffefdd09edf89f1",
     "grade": false,
     "grade_id": "cell-f30629482a9176a9",
     "locked": false,
     "schema_version": 3,
     "solution": true,
     "task": false
    }
   },
   "outputs": [],
   "source": [
    "def test_OvO(X_test, test_func, score_func, estimators):\n",
    "    all_scores = np.zeros((X_test.shape[0], len(estimators)))\n",
    "    probability = np.zeros((X_test.shape[0], len(estimators)))\n",
    "    for i,j in estimators:\n",
    "        est = estimators[(i,j)]\n",
    "        preds = test_func(X_test, est)\n",
    "        scores = score_func(X_test, est)\n",
    "        all_scores[:,i][preds==1]+=1\n",
    "        all_scores[:,j][preds==-1]+=1\n",
    "        probability[:,i][preds==1]+=scores[preds==1]\n",
    "        probability[:,j][preds==-1]+=np.fabs(scores[preds==-1])\n",
    "    probability = probability / (probability.max()**2)\n",
    "    preds = np.argmax(all_scores+probability, axis=1)\n",
    "    return preds"
   ]
  },
  {
   "cell_type": "code",
   "execution_count": 474,
   "metadata": {
    "deletable": false,
    "editable": false,
    "nbgrader": {
     "cell_type": "code",
     "checksum": "1ad9885fc914e7bea8f6b7464a8a50d1",
     "grade": true,
     "grade_id": "cell-62fc29bd88c05adc",
     "locked": true,
     "points": 7,
     "schema_version": 3,
     "solution": false,
     "task": false
    }
   },
   "outputs": [],
   "source": [
    "# This cell is reserved for the unit tests. Do not consider this cell. "
   ]
  },
  {
   "cell_type": "markdown",
   "metadata": {
    "deletable": false,
    "editable": false,
    "nbgrader": {
     "cell_type": "markdown",
     "checksum": "18cf687500f8d95d63af1ad2c69a7f5b",
     "grade": false,
     "grade_id": "cell-7f83d1342bd56821",
     "locked": true,
     "schema_version": 3,
     "solution": false,
     "task": false
    }
   },
   "source": [
    "## Question 22  [marks 4]\n",
    "\n",
    "Make the function `confusion_table(targets, preds)` to output the confusion matrix as a `n x n` Numpy array where `n` is the number of classes. The confusion table is a matrix whose i-th row and j-th column entry indicates the number of samples with true label being the i-th class and predicted label being the j-th class.\n",
    "\n",
    "As an example, when executing the following code:\n",
    "\n",
    "```python\n",
    "test_targets = np.array([0,1,2,0,1,2])\n",
    "test_preds  =  np.array([0,1,2,0,0,0])\n",
    "print(confusion_table(test_targets, test_preds))\n",
    "```\n",
    "you should obtain:\n",
    "```\n",
    "array([[2, 0, 0],\n",
    "       [1, 1, 0],\n",
    "       [1, 0, 1]])\n",
    "```"
   ]
  },
  {
   "cell_type": "code",
   "execution_count": 475,
   "metadata": {
    "deletable": false,
    "nbgrader": {
     "cell_type": "code",
     "checksum": "6ffd5476303dc6cbbb59a77463f69013",
     "grade": false,
     "grade_id": "cell-6a90d9550ef1caba",
     "locked": false,
     "schema_version": 3,
     "solution": true,
     "task": false
    }
   },
   "outputs": [],
   "source": [
    "def confusion_table(targets, preds):\n",
    "    # YOUR CODE HERE\n",
    "    raise NotImplementedError()"
   ]
  },
  {
   "cell_type": "code",
   "execution_count": 476,
   "metadata": {
    "deletable": false,
    "editable": false,
    "nbgrader": {
     "cell_type": "code",
     "checksum": "860224b5f8ca45923dbe6f02a3ae4314",
     "grade": true,
     "grade_id": "cell-63710cc233b18c82",
     "locked": true,
     "points": 4,
     "schema_version": 3,
     "solution": false,
     "task": false
    }
   },
   "outputs": [],
   "source": [
    "# This cell is reserved for the unit tests. Do not consider this cell. "
   ]
  },
  {
   "cell_type": "markdown",
   "metadata": {
    "deletable": false,
    "editable": false,
    "nbgrader": {
     "cell_type": "markdown",
     "checksum": "ff0794576629411c8cbb35f95a06a226",
     "grade": false,
     "grade_id": "cell-4c94b08c664771aa",
     "locked": true,
     "schema_version": 3,
     "solution": false,
     "task": false
    }
   },
   "source": [
    "## Cross correlations\n",
    "\n",
    "In the following section you are asked to work on the notion of cross correlations in 2 and 3 dimensions.\n",
    "\n",
    "Since the computation of a cross correlation becomes undefined at those positions that are very close to the image boundaries, you are asked to **pad** the original signal, i.e. to extend the signal using a specific strategy.\n",
    "\n",
    "Note that the resulting cross correlation has the same size as the original signal. "
   ]
  },
  {
   "cell_type": "markdown",
   "metadata": {
    "deletable": false,
    "editable": false,
    "nbgrader": {
     "cell_type": "markdown",
     "checksum": "d9e7b7114232254a2318604b19b24c96",
     "grade": false,
     "grade_id": "cell-f96ca14793eec139",
     "locked": true,
     "schema_version": 3,
     "solution": false,
     "task": false
    }
   },
   "source": [
    "## Question 23  [marks 6]\n",
    "\n",
    "Make the function `Mp = padding_repeating(M, length)` that takes in input a 2D numpy array `M` and a scalar `length` and pads `M` with `length` replicas of the boundary cells. \n",
    "\n",
    "For example running the following code \n",
    "```python\n",
    "n=5\n",
    "M=np.arange(n*n).reshape(n,n)\n",
    "print(M)\n",
    "length=1\n",
    "print(length)\n",
    "print(padding_repeating(M, length))\n",
    "length=2\n",
    "print(length)\n",
    "print(padding_repeating(M, length))\n",
    "```\n",
    "\n",
    "yields\n",
    "\n",
    "```\n",
    "[[ 0  1  2  3  4]\n",
    " [ 5  6  7  8  9]\n",
    " [10 11 12 13 14]\n",
    " [15 16 17 18 19]\n",
    " [20 21 22 23 24]]\n",
    "1\n",
    "[[ 0  0  1  2  3  4  4]\n",
    " [ 0  0  1  2  3  4  4]\n",
    " [ 5  5  6  7  8  9  9]\n",
    " [10 10 11 12 13 14 14]\n",
    " [15 15 16 17 18 19 19]\n",
    " [20 20 21 22 23 24 24]\n",
    " [20 20 21 22 23 24 24]]\n",
    "2\n",
    "[[ 0  0  0  1  2  3  4  4  4]\n",
    " [ 0  0  0  1  2  3  4  4  4]\n",
    " [ 0  0  0  1  2  3  4  4  4]\n",
    " [ 5  5  5  6  7  8  9  9  9]\n",
    " [10 10 10 11 12 13 14 14 14]\n",
    " [15 15 15 16 17 18 19 19 19]\n",
    " [20 20 20 21 22 23 24 24 24]\n",
    " [20 20 20 21 22 23 24 24 24]\n",
    " [20 20 20 21 22 23 24 24 24]]\n",
    "```"
   ]
  },
  {
   "cell_type": "code",
   "execution_count": 477,
   "metadata": {
    "deletable": false,
    "nbgrader": {
     "cell_type": "code",
     "checksum": "d932fb0d828c1d23c936ba3c0e013958",
     "grade": false,
     "grade_id": "cell-0d5cfc2d037c04af",
     "locked": false,
     "schema_version": 3,
     "solution": true,
     "task": false
    }
   },
   "outputs": [],
   "source": [
    "def padding_repeating(M, length):\n",
    "    return np.pad(M,mode='edge',pad_width=length)\n"
   ]
  },
  {
   "cell_type": "code",
   "execution_count": 478,
   "metadata": {
    "deletable": false,
    "editable": false,
    "nbgrader": {
     "cell_type": "code",
     "checksum": "745618d8b1bfb1fea2891bc38c5065e6",
     "grade": true,
     "grade_id": "cell-391c8c75c4927b6c",
     "locked": true,
     "points": 6,
     "schema_version": 3,
     "solution": false,
     "task": false
    }
   },
   "outputs": [],
   "source": [
    "# This cell is reserved for the unit tests. Do not consider this cell. "
   ]
  },
  {
   "cell_type": "markdown",
   "metadata": {
    "deletable": false,
    "editable": false,
    "nbgrader": {
     "cell_type": "markdown",
     "checksum": "92dec3fd90368ea0ec2677d945f4d23f",
     "grade": false,
     "grade_id": "cell-020c5a849f1fb6d4",
     "locked": true,
     "schema_version": 3,
     "solution": false,
     "task": false
    }
   },
   "source": [
    "## Question 24  [marks 4]\n",
    "\n",
    "Make the function `cross_correlation2D(image, kernel, padding_func)` that takes in input a $m \\times n$ 2D array `image` and a square $k \\times k$ 2D array `kernel` with $k$ an odd number (e.g. kernel is a 3x3 or 5x5, etc, matrix), and a padding function `padding_func`. The function outputs an array of the same size $m \\times n$ as `image` which corresponds to the 2D cross correlation between the padded `image` and `kernel`."
   ]
  },
  {
   "cell_type": "code",
   "execution_count": 479,
   "metadata": {
    "deletable": false,
    "nbgrader": {
     "cell_type": "code",
     "checksum": "367b9d6d6224d5ae95258c79614cba82",
     "grade": false,
     "grade_id": "cell-b5d12af8c2aa6d9e",
     "locked": false,
     "schema_version": 3,
     "solution": true,
     "task": false
    }
   },
   "outputs": [],
   "source": [
    "def cross_correlation2D(image, kernel, padding_func):\n",
    "    r,c = image.shape\n",
    "    kr,kc = kernel.shape\n",
    "    assert(kr==kc)\n",
    "    assert(kr%2==1)\n",
    "    l=int((kr-1)/2)\n",
    "    out = np.zeros(image.shape)\n",
    "    for i in range(l,r-l):\n",
    "        for j in range(l,c-l):\n",
    "            cond = (i>l and i<=r-l) and (j>l and j<=c-l)\n",
    "            if cond:\n",
    "                out[i,j] = np.sum(image[i-l:i+l+1,j-l:j+l+1]*kernel)\n",
    "    return out"
   ]
  },
  {
   "cell_type": "code",
   "execution_count": 480,
   "metadata": {
    "deletable": false,
    "editable": false,
    "nbgrader": {
     "cell_type": "code",
     "checksum": "09fb7dd9442ffa9da9d818bcca62e185",
     "grade": true,
     "grade_id": "cell-0466086c18625cd9",
     "locked": true,
     "points": 4,
     "schema_version": 3,
     "solution": false,
     "task": false
    }
   },
   "outputs": [],
   "source": [
    "# This cell is reserved for the unit tests. Do not consider this cell. "
   ]
  },
  {
   "cell_type": "markdown",
   "metadata": {
    "deletable": false,
    "editable": false,
    "nbgrader": {
     "cell_type": "markdown",
     "checksum": "4156cc9b97871731ad5e13490e69deb4",
     "grade": false,
     "grade_id": "cell-1315f7710cff2428",
     "locked": true,
     "schema_version": 3,
     "solution": false,
     "task": false
    }
   },
   "source": [
    "## Question 25  [marks 3]\n",
    "\n",
    "Make the function `padding_zeros_3D(M, length)` that takes in input a 3D numpy array `M` and a scalar `length` and pads `M` with with replicas of 0 entries along all sides.\n",
    "\n",
    "For example:\n",
    "```python\n",
    "padding_zeros_3D(np.ones((3,3,3)), length=1)\n",
    "```\n",
    "yields\n",
    "```\n",
    "array([[[0., 0., 0., 0., 0.],\n",
    "        [0., 0., 0., 0., 0.],\n",
    "        [0., 0., 0., 0., 0.],\n",
    "        [0., 0., 0., 0., 0.],\n",
    "        [0., 0., 0., 0., 0.]],\n",
    "\n",
    "       [[0., 0., 0., 0., 0.],\n",
    "        [0., 1., 1., 1., 0.],\n",
    "        [0., 1., 1., 1., 0.],\n",
    "        [0., 1., 1., 1., 0.],\n",
    "        [0., 0., 0., 0., 0.]],\n",
    "\n",
    "       [[0., 0., 0., 0., 0.],\n",
    "        [0., 1., 1., 1., 0.],\n",
    "        [0., 1., 1., 1., 0.],\n",
    "        [0., 1., 1., 1., 0.],\n",
    "        [0., 0., 0., 0., 0.]],\n",
    "\n",
    "       [[0., 0., 0., 0., 0.],\n",
    "        [0., 1., 1., 1., 0.],\n",
    "        [0., 1., 1., 1., 0.],\n",
    "        [0., 1., 1., 1., 0.],\n",
    "        [0., 0., 0., 0., 0.]],\n",
    "\n",
    "       [[0., 0., 0., 0., 0.],\n",
    "        [0., 0., 0., 0., 0.],\n",
    "        [0., 0., 0., 0., 0.],\n",
    "        [0., 0., 0., 0., 0.],\n",
    "        [0., 0., 0., 0., 0.]]])\n",
    "```"
   ]
  },
  {
   "cell_type": "code",
   "execution_count": 481,
   "metadata": {
    "deletable": false,
    "nbgrader": {
     "cell_type": "code",
     "checksum": "e57978b5bd5bd1f936b2fdcce7d4609c",
     "grade": false,
     "grade_id": "cell-c99762d7432648d8",
     "locked": false,
     "schema_version": 3,
     "solution": true,
     "task": false
    }
   },
   "outputs": [],
   "source": [
    "def padding_zeros_3D(M, length):\n",
    "    l,m,n = M.shape\n",
    "    arr1 = np.zeros((l + 2 * length, m + 2 * length, n + 2 * length))\n",
    "    arr1[length:-length,length:-length,length:-length] = M\n",
    "    return arr1\n"
   ]
  },
  {
   "cell_type": "code",
   "execution_count": 482,
   "metadata": {
    "deletable": false,
    "editable": false,
    "nbgrader": {
     "cell_type": "code",
     "checksum": "d1d58bb6cee6a8e9f77d0b2eb38b5f14",
     "grade": true,
     "grade_id": "cell-19f2b776391b0003",
     "locked": true,
     "points": 3,
     "schema_version": 3,
     "solution": false,
     "task": false
    }
   },
   "outputs": [],
   "source": [
    "# This cell is reserved for the unit tests. Do not consider this cell. "
   ]
  },
  {
   "cell_type": "markdown",
   "metadata": {
    "deletable": false,
    "editable": false,
    "nbgrader": {
     "cell_type": "markdown",
     "checksum": "bc806834f2a37552277d3e8e7bce87ef",
     "grade": false,
     "grade_id": "cell-bbb8d97b9b1266dc",
     "locked": true,
     "schema_version": 3,
     "solution": false,
     "task": false
    }
   },
   "source": [
    "## Question 26  [marks 3]\n",
    "\n",
    "Make the function `cross_correlation3D(image, kernel, padding_func)` that takes in input a $m \\times n \\times p$ 3D array `image` and a square $k \\times k \\times k$ 3D array `kernel` with $k$ an odd number (e.g. kernel is a 3x3x3 or 5x5x5, etc, matrix), and a padding function `padding_func`. The function outputs an array of the same size $m \\times n \\times p$ as `image` which corresponds to the 3D cross correlation between the padded `image` and `kernel`."
   ]
  },
  {
   "cell_type": "code",
   "execution_count": 483,
   "metadata": {
    "deletable": false,
    "nbgrader": {
     "cell_type": "code",
     "checksum": "8e3d57fd33f819636ff538daf13d89d1",
     "grade": false,
     "grade_id": "cell-4846be3f36ff291f",
     "locked": false,
     "schema_version": 3,
     "solution": true,
     "task": false
    }
   },
   "outputs": [
    {
     "ename": "SyntaxError",
     "evalue": "unexpected EOF while parsing (<ipython-input-483-e94b0691e0e9>, line 2)",
     "output_type": "error",
     "traceback": [
      "\u001b[1;36m  File \u001b[1;32m\"<ipython-input-483-e94b0691e0e9>\"\u001b[1;36m, line \u001b[1;32m2\u001b[0m\n\u001b[1;33m    \u001b[0m\n\u001b[1;37m    ^\u001b[0m\n\u001b[1;31mSyntaxError\u001b[0m\u001b[1;31m:\u001b[0m unexpected EOF while parsing\n"
     ]
    }
   ],
   "source": [
    "def cross_correlation3D(image, kernel, padding_func):\n",
    "    "
   ]
  },
  {
   "cell_type": "code",
   "execution_count": 484,
   "metadata": {
    "deletable": false,
    "editable": false,
    "nbgrader": {
     "cell_type": "code",
     "checksum": "82f13208841f6a1a84822a21d6e9daf4",
     "grade": true,
     "grade_id": "cell-33fad295ac73e311",
     "locked": true,
     "points": 3,
     "schema_version": 3,
     "solution": false,
     "task": false
    }
   },
   "outputs": [],
   "source": [
    "# This cell is reserved for the unit tests. Do not consider this cell. "
   ]
  },
  {
   "cell_type": "markdown",
   "metadata": {
    "deletable": false,
    "editable": false,
    "nbgrader": {
     "cell_type": "markdown",
     "checksum": "1f2be1b9866482907964c1ecb219a4bc",
     "grade": false,
     "grade_id": "cell-5ca8d6a15911ba47",
     "locked": true,
     "schema_version": 3,
     "solution": false,
     "task": false
    }
   },
   "source": [
    "## Question 27  [marks 2]\n",
    "\n",
    "Make the function `make_averaging_kernel(n_dim, length)` that generates a kernel with `n_dim` dimensions (e.g. n_dim = 3) of shape $(l \\times l \\times \\ldots l)$ with $l=$`lenght`. The function should build a specific kernel that, when used in a cross correlation operation, computes the average of all the values in its field of action (e.g. a 3x3x3 kernel makes the average of the 27 neighboring cells)."
   ]
  },
  {
   "cell_type": "code",
   "execution_count": 485,
   "metadata": {
    "deletable": false,
    "nbgrader": {
     "cell_type": "code",
     "checksum": "aaa6d7db7043b5b888c32ea49fb5b4de",
     "grade": false,
     "grade_id": "cell-4ba477f1dc39b05a",
     "locked": false,
     "schema_version": 3,
     "solution": true,
     "task": false
    }
   },
   "outputs": [],
   "source": [
    "def make_averaging_kernel(n_dim, length):\n",
    "    shape = [length for dim in range(n_dim)]\n",
    "    out = np.ones(shape)\n",
    "    out /= (length**n_dim)\n",
    "    return out\n"
   ]
  },
  {
   "cell_type": "code",
   "execution_count": 486,
   "metadata": {
    "deletable": false,
    "editable": false,
    "nbgrader": {
     "cell_type": "code",
     "checksum": "01c692685789370148a5b34c91631b2f",
     "grade": true,
     "grade_id": "cell-09523f7b839129cb",
     "locked": true,
     "points": 2,
     "schema_version": 3,
     "solution": false,
     "task": false
    }
   },
   "outputs": [],
   "source": [
    "# This cell is reserved for the unit tests. Do not consider this cell. "
   ]
  },
  {
   "cell_type": "markdown",
   "metadata": {
    "deletable": false,
    "editable": false,
    "nbgrader": {
     "cell_type": "markdown",
     "checksum": "d73260b5d66a9b27e870203e60ebfb04",
     "grade": false,
     "grade_id": "cell-d3484756eb20bfd7",
     "locked": true,
     "schema_version": 3,
     "solution": false,
     "task": false
    }
   },
   "source": [
    "## Checkpoint\n",
    "\n",
    "This is just a check-point, i.e. it is for you to see that you are correctly implementing all functions. \n",
    "\n",
    "Note that a color image is encoded as a 3D array, where the 3rd dimension is used to encode the color information.\n",
    "\n",
    "Execute the following code (just execute the next cell):\n",
    "\n",
    "```python\n",
    "from PIL import Image\n",
    "image = np.array(Image.open('fish.jpeg')).astype(int)\n",
    "\n",
    "# original image\n",
    "print(image.shape)\n",
    "plt.imshow(image)\n",
    "plt.show()\n",
    "\n",
    "# correlation\n",
    "kernel = make_averaging_kernel(n_dim=3, length=7)\n",
    "out = cross_correlation3D(image, kernel, padding_zeros_3D)\n",
    "out = out.astype(int)\n",
    "plt.imshow(out)\n",
    "plt.show()\n",
    "```\n",
    "\n",
    "You should obtain something like:\n",
    "```\n",
    "(510, 510, 3)\n",
    "```\n",
    "\n",
    "<img src='plot4.png' width=300>"
   ]
  },
  {
   "cell_type": "code",
   "execution_count": null,
   "metadata": {
    "deletable": false,
    "editable": false,
    "nbgrader": {
     "cell_type": "code",
     "checksum": "ba88878db6f046bf7bc1638ab28a91fd",
     "grade": false,
     "grade_id": "cell-e204be3549fb3567",
     "locked": true,
     "schema_version": 3,
     "solution": false,
     "task": false
    }
   },
   "outputs": [],
   "source": [
    "# Just run the following code, do not modify it\n",
    "\n",
    "from PIL import Image\n",
    "image = np.array(Image.open('fish.jpeg')).astype(int)\n",
    "\n",
    "# original image\n",
    "print(image.shape)\n",
    "plt.imshow(image)\n",
    "plt.show()\n",
    "\n",
    "# correlation\n",
    "kernel = make_averaging_kernel(n_dim=3, length=5)\n",
    "out = cross_correlation3D(image, kernel, padding_zeros_3D)\n",
    "out = out.astype(int)\n",
    "plt.imshow(out)\n",
    "plt.show()"
   ]
  }
 ],
 "metadata": {
  "kernelspec": {
   "display_name": "Python 3",
   "language": "python",
   "name": "python3"
  },
  "language_info": {
   "codemirror_mode": {
    "name": "ipython",
    "version": 3
   },
   "file_extension": ".py",
   "mimetype": "text/x-python",
   "name": "python",
   "nbconvert_exporter": "python",
   "pygments_lexer": "ipython3",
   "version": "3.8.3"
  }
 },
 "nbformat": 4,
 "nbformat_minor": 4
}
